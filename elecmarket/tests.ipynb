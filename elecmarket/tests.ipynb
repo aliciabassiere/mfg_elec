{
 "cells": [
  {
   "cell_type": "code",
   "execution_count": 1,
   "outputs": [
    {
     "name": "stdout",
     "output_type": "stream",
     "text": [
      "Total Gain: 9984.242341121271\n"
     ]
    }
   ],
   "source": [
    "# The code for running the simulation\n",
    "# Parameters are described in appropriate python files\n",
    "# look into the files for parameter descriptions\n",
    "\n",
    "from elecmarket import *\n",
    "import os as os\n",
    "\n",
    "scenario_name = \"test\"\n",
    "cp = getpar(\"common_params.py\")\n",
    "cagents = [ConventionalExit('Coal exit',cp,getpar('coal_exit.py')),\n",
    "          ConventionalExit('Gas exit',cp,getpar('gas_exit.py')),\n",
    "          ConventionalEntry('Gas entry',cp,getpar('gas_entry.py'))]\n",
    "\n",
    "ragents = [Renewable('Renewable',cp,getpar('renewable.py'))]\n",
    "Niter = cp['iterations']\n",
    "tol = cp['tolerance']\n",
    "sim = Simulation(cagents,ragents,cp)\n",
    "\n",
    "sim.plannerProblem()"
   ],
   "metadata": {
    "collapsed": false
   }
  },
  {
   "cell_type": "markdown",
   "source": [],
   "metadata": {
    "collapsed": false
   }
  },
  {
   "cell_type": "code",
   "execution_count": null,
   "outputs": [],
   "source": [],
   "metadata": {
    "collapsed": false
   }
  }
 ],
 "metadata": {
  "kernelspec": {
   "display_name": "Python 3",
   "language": "python",
   "name": "python3"
  },
  "language_info": {
   "codemirror_mode": {
    "name": "ipython",
    "version": 2
   },
   "file_extension": ".py",
   "mimetype": "text/x-python",
   "name": "python",
   "nbconvert_exporter": "python",
   "pygments_lexer": "ipython2",
   "version": "2.7.6"
  }
 },
 "nbformat": 4,
 "nbformat_minor": 0
}
