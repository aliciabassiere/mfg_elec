{
 "cells": [
  {
   "cell_type": "code",
   "execution_count": null,
   "outputs": [],
   "source": [
    "import pandas as pd\n",
    "import numpy as np\n",
    "import os\n",
    "import seaborn as sns\n",
    "import matplotlib.pyplot as plt\n",
    "import matplotlib.dates as mdates\n",
    "from sklearn.mixture import GaussianMixture\n",
    "from scipy.stats import beta, gamma\n"
   ],
   "metadata": {
    "collapsed": false,
    "pycharm": {
     "name": "#%%\n"
    }
   }
  },
  {
   "cell_type": "code",
   "execution_count": null,
   "outputs": [],
   "source": [
    "## Parameters\n",
    "\n",
    "bPV = 7\n",
    "bR = 8\n",
    "bG = 3\n",
    "bC = 4\n",
    "boil = 18\n",
    "bnuclear = 6 # Source https://europeanclimate.org/wp-content/uploads/2019/11/14-03-2019-ffe-2050-cost-assumptions.xlsx\n",
    "bhydro = 0.002661\n",
    "\n",
    "technologies = [\"Wind On-Shore\", \"Wind Off-Shore\", \"PV\", \"Hydro\", \"Nuclear\", \"Gas\", \"Coal\", \"Oil\"]"
   ],
   "metadata": {
    "collapsed": false,
    "pycharm": {
     "name": "#%%\n"
    }
   }
  },
  {
   "cell_type": "code",
   "execution_count": null,
   "outputs": [],
   "source": [
    "## Quantités\n",
    "\n",
    "generation = pd.read_csv(r\"C:\\Users\\Alicia BASSIERE\\OneDrive - GENES\\Documents\\DATA\\ENTSO-E\\Germany\\actual_generation.csv\", index_col=0)\n",
    "generation\n",
    "\n",
    "# Available capacities\n",
    "\n",
    "\n"
   ],
   "metadata": {
    "collapsed": false,
    "pycharm": {
     "name": "#%%\n"
    }
   }
  },
  {
   "cell_type": "code",
   "execution_count": null,
   "outputs": [],
   "source": [
    "## Prix\n",
    "\n",
    "gas_price = pd.read_csv(r\"C:\\Users\\Alicia BASSIERE\\OneDrive - GENES\\Documents\\DATA\\Macro Bond\", index_col=0)\n",
    "uranium_price = 0\n",
    "coal_price = 0\n",
    "oil_price = 0\n"
   ],
   "metadata": {
    "collapsed": false,
    "pycharm": {
     "name": "#%%\n"
    }
   }
  }
 ],
 "metadata": {
  "kernelspec": {
   "display_name": "Python 3",
   "language": "python",
   "name": "python3"
  },
  "language_info": {
   "codemirror_mode": {
    "name": "ipython",
    "version": 2
   },
   "file_extension": ".py",
   "mimetype": "text/x-python",
   "name": "python",
   "nbconvert_exporter": "python",
   "pygments_lexer": "ipython2",
   "version": "2.7.6"
  }
 },
 "nbformat": 4,
 "nbformat_minor": 0
}