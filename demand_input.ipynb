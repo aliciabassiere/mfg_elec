{
 "cells": [
  {
   "metadata": {
    "ExecuteTime": {
     "end_time": "2024-06-12T10:04:53.485028Z",
     "start_time": "2024-06-12T10:04:53.440061Z"
    }
   },
   "cell_type": "code",
   "source": [
    "import numpy as np\n",
    "import pandas as pd\n",
    "from sklearn.preprocessing import StandardScaler\n",
    "from sklearn.cluster import KMeans\n",
    "\n",
    "# Load your data\n",
    "# Assuming your data is in a CSV file\n",
    "data = pd.read_csv(r'C:\\Users\\Alicia BASSIERE\\OneDrive - GENES\\Documents\\Paper 01 - DIPU\\inputs\\load.csv')  # Replace with your file path\n",
    "#demand = data['demand'].values\n",
    "demand = data['fitted_2021'] + data['fitted_2021']\n",
    "demand = demand.values"
   ],
   "id": "39d078415414d398",
   "outputs": [],
   "execution_count": 31
  },
  {
   "metadata": {
    "ExecuteTime": {
     "end_time": "2024-06-12T10:04:53.560738Z",
     "start_time": "2024-06-12T10:04:53.486946Z"
    }
   },
   "cell_type": "code",
   "source": [
    "# Standardize the data\n",
    "scaler = StandardScaler()\n",
    "demand_scaled = scaler.fit_transform(demand.reshape(-1, 1))\n",
    "\n",
    "# Apply k-means clustering\n",
    "kmeans = KMeans(n_clusters=10, random_state=0, n_init=10)\n",
    "kmeans.fit(demand_scaled)\n",
    "\n",
    "# Identify the representative hours\n",
    "cluster_centers = kmeans.cluster_centers_\n",
    "representative_hours = []\n",
    "for center in cluster_centers:\n",
    "    distances = np.linalg.norm(demand_scaled - center, axis=1)\n",
    "    representative_hour = np.argmin(distances)\n",
    "    representative_hours.append(representative_hour)\n",
    "\n",
    "representative_hours = sorted(representative_hours)  # Sort for readability\n",
    "\n",
    "# Get the representative data points\n",
    "representative_data = data.iloc[representative_hours]\n",
    "\n",
    "data = pd.DataFrame(demand[representative_hours])\n",
    "np.quantile(data, 0.1)"
   ],
   "id": "6f588f91db611997",
   "outputs": [
    {
     "data": {
      "text/plain": [
       "101278.189998"
      ]
     },
     "execution_count": 32,
     "metadata": {},
     "output_type": "execute_result"
    }
   ],
   "execution_count": 32
  },
  {
   "metadata": {
    "ExecuteTime": {
     "end_time": "2024-06-12T10:08:12.888450Z",
     "start_time": "2024-06-12T10:08:12.860812Z"
    }
   },
   "cell_type": "code",
   "source": [
    "representative_data = np.array([data.values.min(), np.quantile(data, 0.1), np.quantile(data, 0.2),np.quantile(data, 0.3), np.quantile(data, 0.4), np.quantile(data, 0.5), np.quantile(data, 0.6), np.quantile(data, 0.7), np.quantile(data, 0.8), np.quantile(data, 0.9), data.values.max()])\n",
    "\n",
    "representative_data*1.02"
   ],
   "id": "143ea0c4efa649dc",
   "outputs": [
    {
     "data": {
      "text/plain": [
       "array([ 96602.42196 , 101278.189998, 103595.433828, 107442.322   ,\n",
       "       110396.819584, 112916.89704 , 115199.133928, 118681.368112,\n",
       "       126221.285128, 134726.085434, 136438.60934 ])"
      ]
     },
     "execution_count": 40,
     "metadata": {},
     "output_type": "execute_result"
    }
   ],
   "execution_count": 40
  },
  {
   "metadata": {
    "ExecuteTime": {
     "end_time": "2024-06-12T12:37:35.843798Z",
     "start_time": "2024-06-12T12:37:35.830830Z"
    }
   },
   "cell_type": "code",
   "source": [
    "T_values = np.arange(15)  # [0, 1, 2]\n",
    "factors = 1 + 0.02 * T_values\n",
    "np.array([representative_data * factor for factor in factors]).reshape(165)/1000"
   ],
   "id": "90fcb48f62003063",
   "outputs": [
    {
     "data": {
      "text/plain": [
       "array([ 96.60242196, 101.27819   , 103.59543383, 107.442322  ,\n",
       "       110.39681958, 112.91689704, 115.19913393, 118.68136811,\n",
       "       126.22128513, 134.72608543, 136.43860934,  98.5344704 ,\n",
       "       103.3037538 , 105.6673425 , 109.59116844, 112.60475598,\n",
       "       115.17523498, 117.50311661, 121.05499547, 128.74571083,\n",
       "       137.42060714, 139.16738153, 100.46651884, 105.3293176 ,\n",
       "       107.73925118, 111.74001488, 114.81269237, 117.43357292,\n",
       "       119.80709929, 123.42862284, 131.27013653, 140.11512885,\n",
       "       141.89615371, 102.39856728, 107.3548814 , 109.81115986,\n",
       "       113.88886132, 117.02062876, 119.69191086, 122.11108196,\n",
       "       125.8022502 , 133.79456224, 142.80965056, 144.6249259 ,\n",
       "       104.33061572, 109.3804452 , 111.88306853, 116.03770776,\n",
       "       119.22856515, 121.9502488 , 124.41506464, 128.17587756,\n",
       "       136.31898794, 145.50417227, 147.35369809, 106.26266416,\n",
       "       111.406009  , 113.95497721, 118.1865542 , 121.43650154,\n",
       "       124.20858674, 126.71904732, 130.54950492, 138.84341364,\n",
       "       148.19869398, 150.08247027, 108.1947126 , 113.4315728 ,\n",
       "       116.02688589, 120.33540064, 123.64443793, 126.46692468,\n",
       "       129.02303   , 132.92313229, 141.36783934, 150.89321569,\n",
       "       152.81124246, 110.12676103, 115.4571366 , 118.09879456,\n",
       "       122.48424708, 125.85237433, 128.72526263, 131.32701268,\n",
       "       135.29675965, 143.89226505, 153.58773739, 155.54001465,\n",
       "       112.05880947, 117.4827004 , 120.17070324, 124.63309352,\n",
       "       128.06031072, 130.98360057, 133.63099536, 137.67038701,\n",
       "       146.41669075, 156.2822591 , 158.26878683, 113.99085791,\n",
       "       119.5082642 , 122.24261192, 126.78193996, 130.26824711,\n",
       "       133.24193851, 135.93497804, 140.04401437, 148.94111645,\n",
       "       158.97678081, 160.99755902, 115.92290635, 121.533828  ,\n",
       "       124.31452059, 128.9307864 , 132.4761835 , 135.50027645,\n",
       "       138.23896071, 142.41764173, 151.46554215, 161.67130252,\n",
       "       163.72633121, 117.85495479, 123.5593918 , 126.38642927,\n",
       "       131.07963284, 134.68411989, 137.75861439, 140.54294339,\n",
       "       144.7912691 , 153.98996786, 164.36582423, 166.45510339,\n",
       "       119.78700323, 125.5849556 , 128.45833795, 133.22847928,\n",
       "       136.89205628, 140.01695233, 142.84692607, 147.16489646,\n",
       "       156.51439356, 167.06034594, 169.18387558, 121.71905167,\n",
       "       127.6105194 , 130.53024662, 135.37732572, 139.09999268,\n",
       "       142.27529027, 145.15090875, 149.53852382, 159.03881926,\n",
       "       169.75486765, 171.91264777, 123.65110011, 129.6360832 ,\n",
       "       132.6021553 , 137.52617216, 141.30792907, 144.53362821,\n",
       "       147.45489143, 151.91215118, 161.56324496, 172.44938936,\n",
       "       174.64141996])"
      ]
     },
     "execution_count": 53,
     "metadata": {},
     "output_type": "execute_result"
    }
   ],
   "execution_count": 53
  },
  {
   "metadata": {},
   "cell_type": "code",
   "outputs": [],
   "execution_count": null,
   "source": "",
   "id": "b1f39522dfd40d69"
  }
 ],
 "metadata": {
  "kernelspec": {
   "display_name": "Python 3",
   "language": "python",
   "name": "python3"
  },
  "language_info": {
   "codemirror_mode": {
    "name": "ipython",
    "version": 2
   },
   "file_extension": ".py",
   "mimetype": "text/x-python",
   "name": "python",
   "nbconvert_exporter": "python",
   "pygments_lexer": "ipython2",
   "version": "2.7.6"
  }
 },
 "nbformat": 4,
 "nbformat_minor": 5
}
