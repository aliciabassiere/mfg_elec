{
 "cells": [
  {
   "cell_type": "code",
   "execution_count": 155,
   "source": [
    "import pandas as pd\n",
    "import matplotlib.pyplot as plt\n",
    "from sklearn.cluster import KMeans\n",
    "import numpy as np\n",
    "\n",
    "import sklearn"
   ],
   "metadata": {
    "collapsed": false
   },
   "outputs": []
  },
  {
   "cell_type": "code",
   "execution_count": 166,
   "source": [
    "folder_path = r\"C:\\Users\\Alicia BASSIERE\\OneDrive - GENES\\Documents\\Paper 02 - Mean Field\\Data\"\n",
    "data = pd.read_csv(folder_path + r\"\\\\auction_sample.csv\" , index_col=0)\n",
    "data = data[data['Sale/Purchase'] == \"Sell\"]\n",
    "coal_price = 94\n",
    "gas_price = 6.163\n",
    "carbon_price = 26.97    # Ember climate org\n",
    "\n",
    "# => Gas avant charbon évident\n",
    "\n",
    "prod_data = pd.read_csv(folder_path + r\"\\\\merit_order.csv\", index_col=None)\n",
    "\n",
    "production_costs = {\n",
    "    \"RES_other\": 0,\n",
    "    \"PV\": 0,\n",
    "    \"Wind\": 0.25,\n",
    "    \"Base\": 5,\n",
    "    \"Gas\": 2.31 + 0.44 * gas_price + 0.33 * carbon_price,\n",
    "    \"Coal\": 2.31 + 0.456 * coal_price + 0.96 * carbon_price,\n",
    "    \"Peak\": 2.31 + 94 * 0.0019047619 * 1000 + 0.55 * carbon_price\n",
    "}\n",
    "\n",
    "production_costs_evaluated = {\n",
    "    key: eval(str(value)) if isinstance(value, str) else value\n",
    "    for key, value in production_costs.items()\n",
    "}\n",
    "\n",
    "# Extract the values to an array\n",
    "costs_array = np.array(list(production_costs_evaluated.values()))\n",
    "\n",
    "# Print the resulting array\n",
    "print(costs_array)"
   ],
   "metadata": {
    "collapsed": false
   },
   "outputs": []
  },
  {
   "cell_type": "code",
   "execution_count": 157,
   "source": [
    "# Filter the initial DataFrame to keep rows where 'Hour' is 1\n",
    "filtered_data1 = data[data['Hour'] == 1]\n",
    "cumulative_volume = filtered_data1.groupby('Price')['Volume'].cumsum()/1000\n",
    "cumulative_data = pd.DataFrame({'Price': filtered_data1['Price'], 'Cumulative_Volume': cumulative_volume})\n",
    "cumulative_data = cumulative_data.drop_duplicates(subset='Price', keep='last')\n",
    "cumulative_data.reset_index(drop=True, inplace=True)\n",
    "cumulative_data = cumulative_data.sort_values(by='Price')\n",
    "cumulative_data['Cumulative_Sum'] = cumulative_data['Cumulative_Volume'].cumsum()\n",
    "cumulative_data['Diff'] = cumulative_data['Cumulative_Sum'].diff()\n",
    "cumulative_data['diff de diff'] = cumulative_data['Diff'].diff()\n",
    "\n",
    "cumulative_data.reset_index(drop=True, inplace=True)\n",
    "biggest_jumps = cumulative_data.nlargest(3, 'diff de diff')\n",
    "cumulative_data['Class'] = 0\n",
    "jump_indices = sorted(biggest_jumps.index)\n",
    "classes = range(len(jump_indices) + 1)\n",
    "\n",
    "start_idx = 0\n",
    "for class_label, end_idx in zip(classes, jump_indices + [len(cumulative_data)]):\n",
    "    cumulative_data.loc[start_idx:end_idx, 'Class'] = class_label\n",
    "    start_idx = end_idx + 1\n",
    "\n",
    "# Create a scatter plot\n",
    "plt.figure(figsize=(10, 6))\n",
    "plt.scatter(cumulative_data['Cumulative_Sum'], cumulative_data['Price'], marker='.', color='blue')\n",
    "plt.title('Hourly Supply bid curve, 1AM')\n",
    "plt.xlabel('Offered quantity of electricity')\n",
    "plt.ylabel('Price €')\n",
    "plt.grid(True)\n",
    "\n",
    "# Show the plot\n",
    "plt.show()"
   ],
   "metadata": {
    "collapsed": false
   },
   "outputs": []
  },
  {
   "cell_type": "code",
   "execution_count": 158,
   "source": [
    "# First order difference\n",
    "\n",
    "# Create a scatter plot\n",
    "plt.figure(figsize=(10, 6))\n",
    "plt.scatter(cumulative_data['Cumulative_Sum'][1:], cumulative_data['Diff'][1:], marker='.', color='blue', label='Diff')\n",
    "plt.title('Hourly Supply bid curve, 1AM')\n",
    "plt.xlabel('Offered quantity of electricity')\n",
    "plt.ylabel('Diff')\n",
    "plt.grid(True)\n",
    "plt.legend()\n",
    "\n",
    "# Show the plot\n",
    "plt.show()"
   ],
   "metadata": {
    "collapsed": false
   },
   "outputs": []
  },
  {
   "cell_type": "code",
   "execution_count": 159,
   "source": [
    "# Second order difference\n",
    "\n",
    "plt.figure(figsize=(10, 6))\n",
    "plt.plot(cumulative_data['diff de diff'], color='blue', label='Diff')\n",
    "plt.title('Hourly Supply bid curve, 1AM')\n",
    "plt.xlabel('Offered quantity of electricity')\n",
    "plt.ylabel('Diff')\n",
    "plt.grid(True)\n",
    "plt.legend()\n"
   ],
   "metadata": {
    "collapsed": false
   },
   "outputs": []
  },
  {
   "cell_type": "code",
   "execution_count": 160,
   "source": [
    "plt.scatter(cumulative_data['Cumulative_Sum'],cumulative_data['Price'], c=cumulative_data['Class'], cmap='viridis')\n",
    "plt.xlabel('Price')\n",
    "plt.ylabel('Electricity Offer')\n",
    "plt.title('K-Means Clustering of the Dataset')\n",
    "plt.show()\n"
   ],
   "metadata": {
    "collapsed": false
   },
   "outputs": []
  },
  {
   "cell_type": "code",
   "execution_count": 161,
   "source": [
    "# Clustering approach\n",
    "\n",
    "# Select the features for clustering\n",
    "X = np.array(cumulative_data[['Price', 'Cumulative_Sum']].values)\n",
    "# Initialize and fit the k-means model\n",
    "# n_clusters is set to 4 as you wanted to classify the dataset into 4 categories\n",
    "kmeans = KMeans(n_clusters=4, random_state=0, n_init=10).fit(X)\n",
    "\n",
    "# Predict the clusters\n",
    "clusters = kmeans.predict(X)\n",
    "\n",
    "# Assign the cluster back to your dataframe\n",
    "cumulative_data['cluster'] = clusters\n",
    "\n",
    "# Optionally, you can visualize the clustering (if it makes sense for your dataset)\n",
    "plt.scatter(cumulative_data['Cumulative_Sum'],cumulative_data['Price'], c=cumulative_data['cluster'], cmap='viridis')\n",
    "plt.xlabel('Price')\n",
    "plt.ylabel('Electricity Offer')\n",
    "plt.title('K-Means Clustering of the Dataset')\n",
    "plt.show()"
   ],
   "metadata": {
    "collapsed": false
   },
   "outputs": []
  },
  {
   "cell_type": "code",
   "execution_count": 171,
   "source": [
    "# Initialize the dictionary to store results\n",
    "results_dict = {}\n",
    "\n",
    "# Loop through each unique hour in the data\n",
    "for hour in data['Hour'].unique():\n",
    "    print(\"Hour: \", hour)\n",
    "    # Filter the DataFrame to keep rows where 'Hour' is the current hour\n",
    "    filtered_data = data[data['Hour'] == hour]\n",
    "    filtered_data = filtered_data[filtered_data['Price'] > 0]\n",
    "    # Group by 'Price' and calculate the cumulative sum of 'Volume'\n",
    "    cumulative_volume = filtered_data.groupby('Price')['Volume'].cumsum() / 1000\n",
    "\n",
    "    # Create a new DataFrame with 'Price' and 'Cumulative_Volume' columns\n",
    "    cumulative_data = pd.DataFrame({'Price': filtered_data['Price'], 'Cumulative_Volume': cumulative_volume})\n",
    "\n",
    "    # Drop duplicate rows to keep only unique 'Price' values\n",
    "    cumulative_data = cumulative_data.drop_duplicates(subset='Price', keep='last')\n",
    "\n",
    "    # Reset the index for the new DataFrame\n",
    "    cumulative_data.reset_index(drop=True, inplace=True)\n",
    "\n",
    "    # Sort the DataFrame by ascending 'Price'\n",
    "    cumulative_data = cumulative_data.sort_values(by='Price')\n",
    "\n",
    "    # Calculate the cumulative sum of 'Cumulative_Volume' and add it as a new column\n",
    "    cumulative_data['Cumulative_Sum'] = cumulative_data['Cumulative_Volume'].cumsum()\n",
    "\n",
    "    # Calculate the differences in the cumulative sum\n",
    "    cumulative_data['Diff'] = cumulative_data['Cumulative_Sum'].diff()\n",
    "\n",
    "    # Calculate the second-order differences\n",
    "    cumulative_data['diff_de_diff'] = cumulative_data['Diff'].diff()\n",
    "    cumulative_data = cumulative_data.iloc[2:]\n",
    "\n",
    "    # Identify the three biggest jumps\n",
    "    biggest_jumps = cumulative_data.nlargest(3, 'diff_de_diff')\n",
    "\n",
    "    # Add an indicator column to define classes\n",
    "    cumulative_data['Class'] = 0\n",
    "    jump_indices = sorted(biggest_jumps.index)\n",
    "    classes = range(len(jump_indices) + 1)\n",
    "\n",
    "    start_idx = 0\n",
    "    for class_label, end_idx in zip(classes, jump_indices + [len(cumulative_data)]):\n",
    "        cumulative_data.loc[start_idx:end_idx, 'Class'] = class_label\n",
    "        start_idx = end_idx + 1\n",
    "\n",
    "    # Store the resulting DataFrame in the dictionary\n",
    "    results_dict[hour] = cumulative_data\n",
    "\n",
    "    plt.scatter(cumulative_data['Cumulative_Sum'],cumulative_data['Price'], c=cumulative_data['Class'], cmap='viridis')\n",
    "    plt.xlabel('Price')\n",
    "    plt.ylabel('Electricity Offer')\n",
    "    plt.title('Clustering of the Dataset')\n",
    "    plt.show()\n",
    "\n",
    "# Display the dictionary with results for each hour\n",
    "for hour, df in results_dict.items():\n",
    "    print(f'Hour: {hour}')\n",
    "    print(df.head())"
   ],
   "metadata": {
    "collapsed": false
   },
   "outputs": []
  },
  {
   "cell_type": "code",
   "execution_count": 170,
   "source": [
    "# Define the list of technology columns\n",
    "tech_columns = prod_data.columns[1:]\n",
    "\n",
    "# Initialize a color map\n",
    "colors = plt.cm.tab20(range(len(tech_columns)))\n",
    "\n",
    "# Loop through each hour and plot the production with cost as height\n",
    "for hour in prod_data['Hour']:\n",
    "    # Select the row for the current hour\n",
    "    row = prod_data[prod_data['Hour'] == hour].iloc[0][1:]  # Exclude 'Hour' column\n",
    "\n",
    "    # Create a bar plot\n",
    "    plt.figure(figsize=(10, 6))\n",
    "\n",
    "    # Plot each technology with different colors\n",
    "    x = np.arange(len(tech_columns))\n",
    "    for idx, tech in enumerate(tech_columns):\n",
    "        if tech in production_costs:\n",
    "            cost = production_costs[tech]\n",
    "            production = row[tech]\n",
    "            plt.bar(x[idx], cost, color=colors[idx], edgecolor='white', width=prod_data[idx])\n",
    "\n",
    "    # Set the title and labels\n",
    "    plt.title(f'Production Cost for Hour {hour}')\n",
    "    plt.xlabel('Technology')\n",
    "    plt.ylabel('Cost (€)')\n",
    "    plt.xticks(ticks=x, labels=tech_columns, rotation=45)\n",
    "\n",
    "    # Show the plot\n",
    "    plt.show()"
   ],
   "metadata": {
    "collapsed": false
   },
   "outputs": []
  },
  {
   "cell_type": "code",
   "execution_count": null,
   "source": [
    "for hour in prod_data['Hour']:\n",
    "    print(prod_data['Hour']==hour)"
   ],
   "metadata": {
    "collapsed": false
   },
   "outputs": []
  },
  {
   "cell_type": "code",
   "execution_count": null,
   "source": [],
   "metadata": {
    "collapsed": false
   },
   "outputs": []
  }
 ],
 "metadata": {
  "kernelspec": {
   "display_name": "Python 3",
   "language": "python",
   "name": "python3"
  },
  "language_info": {
   "codemirror_mode": {
    "name": "ipython",
    "version": 2
   },
   "file_extension": ".py",
   "mimetype": "text/x-python",
   "name": "python",
   "nbconvert_exporter": "python",
   "pygments_lexer": "ipython2",
   "version": "2.7.6"
  }
 },
 "nbformat": 4,
 "nbformat_minor": 0
}
