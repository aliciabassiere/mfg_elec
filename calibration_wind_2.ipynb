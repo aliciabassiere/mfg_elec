{
 "cells": [
  {
   "cell_type": "code",
   "execution_count": 11,
   "source": [
    "import pandas as pd\n",
    "import os\n",
    "import seaborn as sns\n",
    "import matplotlib.pyplot as plt\n",
    "from sklearn.mixture import GaussianMixture"
   ],
   "metadata": {
    "collapsed": false,
    "pycharm": {
     "name": "#%%\n"
    }
   },
   "outputs": []
  },
  {
   "cell_type": "code",
   "execution_count": 12,
   "source": [
    "folder_path = r\"C:\\Users\\Alicia BASSIERE\\OneDrive - GENES\\Documents\\Paper 01 - DIPU\\Estimation\\wind\\clusterOnshore\"\n",
    "file_prefix = \"cluster_\"\n",
    "\n",
    "csv_files = [file for file in os.listdir(folder_path) if file.startswith(file_prefix)]\n",
    "concatenated_df = pd.DataFrame()\n",
    "zero_count = 0\n",
    "previous_dataframe = \"\"\n",
    "\n",
    "for file in csv_files:\n",
    "    file_path = os.path.join(folder_path, file)\n",
    "    data = pd.read_csv(file_path, index_col=0)\n",
    "    data.drop(data.tail(1).index, inplace=True)\n",
    "\n",
    "    # Update the previous dataframe variable\n",
    "    previous_dataframe = file\n",
    "\n",
    "    # Remove zeros from the dataframe\n",
    "    data = data[data != 0]\n",
    "\n",
    "    # Count the number of zeros removed\n",
    "    zero_count += (data == 0).sum().sum()\n",
    "\n",
    "    # Add a column with the name of the previous dataframe\n",
    "    data['Previous_Dataframe'] = previous_dataframe\n",
    "\n",
    "    # Add a column with the index as pd timestamp\n",
    "    data['Timestamp'] = pd.to_datetime(data.index)\n",
    "\n",
    "    # Extract the month from the timestamp and create a \"month\" column\n",
    "    data['Year'] = data['Timestamp'].dt.year\n",
    "\n",
    "    # Concatenate the dataframe with the previous ones\n",
    "    concatenated_df = pd.concat([concatenated_df, data])\n",
    "\n",
    "# Reset the index of the concatenated dataframe\n",
    "concatenated_df.reset_index(drop=True, inplace=True)\n"
   ],
   "metadata": {
    "collapsed": false,
    "pycharm": {
     "name": "#%%\n"
    }
   },
   "outputs": []
  },
  {
   "cell_type": "code",
   "execution_count": 13,
   "source": [
    "cluster_0 = concatenated_df[concatenated_df['Previous_Dataframe']==\"cluster_0.csv\"]"
   ],
   "metadata": {
    "collapsed": false,
    "pycharm": {
     "name": "#%%\n"
    }
   },
   "outputs": []
  },
  {
   "cell_type": "code",
   "execution_count": 14,
   "source": [
    "# Apply a rolling window with a window size of 7 to smooth the line plot\n",
    "smoothed_data = cluster_0['electricity'].rolling(window=1000).mean()\n",
    "\n",
    "# Plot the smoothed data using seaborn\n",
    "sns.set(style='whitegrid')\n",
    "plt.figure(figsize=(10, 6))\n",
    "sns.lineplot(data=smoothed_data)\n",
    "plt.title('Electricity Data (Smoothed) - cluster_0')\n",
    "plt.xlabel('Timestamp')\n",
    "plt.ylabel('Electricity')\n",
    "plt.show()\n",
    "\n",
    "# Create a histogram with KDE curve\n",
    "plt.figure(figsize=(10, 6))\n",
    "sns.histplot(data=cluster_0, x='electricity', kde=True)\n",
    "plt.title('Electricity Histogram - cluster_0')\n",
    "plt.xlabel('Electricity')\n",
    "plt.ylabel('Count')\n",
    "plt.show()"
   ],
   "metadata": {
    "collapsed": false,
    "pycharm": {
     "name": "#%%\n"
    }
   },
   "outputs": []
  },
  {
   "cell_type": "code",
   "execution_count": 15,
   "source": [
    "# Assuming you have the \"cluster_0\" dataframe\n",
    "\n",
    "# Extract the \"electricity\" column\n",
    "electricity_data = cluster_0['electricity']\n",
    "\n",
    "# Reshape the data for GMM fitting\n",
    "electricity_data = electricity_data.values.reshape(-1, 1)\n",
    "\n",
    "# Estimate Gaussian Mixture Model\n",
    "gmm = GaussianMixture(n_components=2)  # Number of components is set to 2 as an example\n",
    "gmm.fit(electricity_data)\n",
    "\n",
    "# Get the predicted labels for the data points\n",
    "labels = gmm.predict(electricity_data)\n",
    "\n",
    "# Add the labels as a new column in the dataframe\n",
    "cluster_0['GMM_Labels'] = labels"
   ],
   "metadata": {
    "collapsed": false,
    "pycharm": {
     "name": "#%%\n"
    }
   },
   "outputs": []
  }
 ],
 "metadata": {
  "kernelspec": {
   "display_name": "Python 3",
   "language": "python",
   "name": "python3"
  },
  "language_info": {
   "codemirror_mode": {
    "name": "ipython",
    "version": 2
   },
   "file_extension": ".py",
   "mimetype": "text/x-python",
   "name": "python",
   "nbconvert_exporter": "python",
   "pygments_lexer": "ipython2",
   "version": "2.7.6"
  }
 },
 "nbformat": 4,
 "nbformat_minor": 0
}
