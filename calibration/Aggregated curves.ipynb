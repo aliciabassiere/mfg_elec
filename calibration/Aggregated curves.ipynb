{
 "cells": [
  {
   "cell_type": "code",
   "metadata": {
    "jupyter": {
     "is_executing": true
    }
   },
   "source": [
    "import pandas as pd\n",
    "import numpy as np\n",
    "import matplotlib.pyplot as plt\n",
    "import pwlf as pwlf\n",
    "%matplotlib inline\n",
    "\n",
    "path = r'D:\\DATA\\Epex\\french_aggregated_bids'"
   ],
   "execution_count": null,
   "outputs": []
  },
  {
   "cell_type": "code",
   "execution_count": 127,
   "metadata": {},
   "source": [
    "##### Allemagne\n",
    "\n",
    "hour = 1\n",
    "ac = pd.read_csv(r'D:\\DATA\\Epex\\Auction_sample\\auction_sample.csv')\n",
    "res = []\n",
    "nint = [5,5,5,5,5,5,5,5,5,5,5,5,5,5,5,5,5,5,5,5,5,5,5,5]\n",
    "#plt.figure(figsize=(12,12))\n",
    "#for i in range(24):\n",
    "#    print(i\n",
    "ach = ac[ac['Hour']==hour]\n",
    "acs=ach[(ach['Sale/Purchase']=='Sell')&(ach['Price']<100)&(ach['Price']>-50)]\n",
    "    # initialize piecewise linear fit with your x and y data\n",
    "x = acs['Volume']\n",
    "y = acs['Price']\n",
    "my_pwlf = pwlf.PiecewiseLinFit(x, y)\n",
    "    # fit the data for four line segments\n",
    "res = my_pwlf.fit(5)\n",
    "xHat = np.linspace(min(x), max(x), num=10000)\n",
    "yHat = my_pwlf.predict(xHat)\n",
    "    # plot the results\n",
    "plt.plot(x, y, 'x')\n",
    "plt.plot(xHat, yHat, 'r-',linewidth=3)\n",
    "for j in range(5):\n",
    "    plt.plot([res[j],res[j]],[-100,200],':b')\n",
    "plt.xlabel('Volume, MWh')\n",
    "plt.ylabel('Price, EUR')\n",
    "plt.savefig('agrecurve.pdf',format='pdf')\n",
    "\n",
    "\n",
    "ac = pd.read_csv(r'D:\\DATA\\Epex\\Auction_sample\\auction_sample.csv')\n",
    "res = []\n",
    "nint = [5,5,5,5,5,5,5,5,5,5,5,5,5,5,5,5,5,5,5,5,5,5,5,5]\n",
    "plt.figure(figsize=(12,12))\n",
    "for i in range(24):\n",
    "    print(i)\n",
    "    ach = ac[ac['Hour']==i+1]\n",
    "    acs=ach[(ach['Sale/Purchase']=='Sell')&(ach['Price']<100)&(ach['Price']>-50)]\n",
    "    # initialize piecewise linear fit with your x and y data\n",
    "    x = acs['Volume']\n",
    "    y = acs['Price']\n",
    "    my_pwlf = pwlf.PiecewiseLinFit(x, y)\n",
    "    # fit the data for four line segments\n",
    "    res.append(my_pwlf.fit(nint[i]))\n",
    "    xHat = np.linspace(min(x), max(x), num=10000)\n",
    "    yHat = my_pwlf.predict(xHat)\n",
    "    # plot the results\n",
    "    plt.subplot(6,4,i+1)\n",
    "    plt.plot(x, y, 'x')\n",
    "    plt.plot(xHat, yHat, 'r-',linewidth=3)\n",
    "    for j in range(5):\n",
    "        plt.plot([res[i][j],res[i][j]],[-100,200],':b')\n",
    "#acs2=ach[(ach['Sale/Purchase']=='Sell')&(ach['Volume']>res[2])&(ach['Volume']<res[3])]\n",
    "\n",
    "#plt.plot(acs2['Volume'],acs2['Price'],'d')\n"
   ],
   "outputs": []
  },
  {
   "cell_type": "code",
   "execution_count": 128,
   "metadata": {},
   "source": [
    "date = '20160101'\n",
    "ac = pd.read_excel(path + r'\\auction_aggregated_curves_france_'+date+'.xlsx',skiprows=1)\n",
    "\n",
    "res = []\n",
    "nint = [5,5,5,5,5,5,5,5,5,5,5,5,5,5,5,5,5,5,5,5,5,5,5,5]\n",
    "plt.figure(figsize=(12,12))\n",
    "for i in range(24):\n",
    "    print(i)\n",
    "    ach = ac[ac['Hour']==i+1]\n",
    "    acs=ach[(ach['Sale/Purchase']=='Sell')&(ach['Price']<100)&(ach['Price']>-50)]\n",
    "    # initialize piecewise linear fit with your x and y data\n",
    "    x = acs['Volume']\n",
    "    y = acs['Price']\n",
    "    my_pwlf = pwlf.PiecewiseLinFit(x, y)\n",
    "    # fit the data for four line segments\n",
    "    res.append(my_pwlf.fit(nint[i]))\n",
    "    xHat = np.linspace(min(x), max(x), num=10000)\n",
    "    yHat = my_pwlf.predict(xHat)\n",
    "    # plot the results\n",
    "    plt.subplot(6,4,i+1)\n",
    "    plt.plot(x, y, 'x')\n",
    "    plt.plot(xHat, yHat, 'r-',linewidth=3)\n",
    "    for j in range(5):\n",
    "        plt.plot([res[i][j],res[i][j]],[-100,200],':b')\n",
    "#acs2=ach[(ach['Sale/Purchase']=='Sell')&(ach['Volume']>res[2])&(ach['Volume']<res[3])]\n",
    "\n",
    "#plt.plot(acs2['Volume'],acs2['Price'],'d')\n",
    "\n",
    "# predict for the determined points\n"
   ],
   "outputs": []
  },
  {
   "cell_type": "code",
   "execution_count": 129,
   "source": [
    "nint = [5, 5, 5, 5, 5, 5, 5, 5, 5, 5, 5, 5, 5, 5, 5, 5, 5, 5, 5, 5, 5, 5, 5, 5]\n",
    "\n",
    "dates = pd.date_range(pd.Timestamp(\"2017-02-07\"), periods=242)\n",
    "dates"
   ],
   "metadata": {
    "collapsed": false
   },
   "outputs": []
  },
  {
   "cell_type": "code",
   "execution_count": null,
   "source": [
    "for datet in dates:\n",
    "\n",
    "    date = datet.strftime(format='%Y%m%d')\n",
    "    dfu = pd.DataFrame()\n",
    "    ac = pd.read_excel(path + r'\\auction_aggregated_curves_france_' + date + '.xlsx', skiprows=1)\n",
    "\n",
    "    appended_data = []\n",
    "    print(date)\n",
    "\n",
    "    for h in ac['Hour'].drop_duplicates():\n",
    "        ach = ac[ac['Hour'] == h]\n",
    "        acs = ach[(ach['Sale/Purchase'] == 'Sell') & (ach['Price'] < 100) & (ach['Price'] > 0)]\n",
    "\n",
    "        # Initialize piecewise linear fit with your x and y data\n",
    "        x = acs['Volume']\n",
    "        y = acs['Price']\n",
    "        my_pwlf = pwlf.PiecewiseLinFit(x, y)\n",
    "\n",
    "        # Fit the data for four line segments\n",
    "        if h == '3B':\n",
    "            res = my_pwlf.fit(nint[2])\n",
    "        else:\n",
    "            res = my_pwlf.fit(nint[int(h) - 1])\n",
    "\n",
    "        mind = np.argmax(np.diff(res))\n",
    "        acs = acs[(ach['Volume'] < res[mind + 1]) & (ach['Volume'] > res[mind])]\n",
    "        appended_data.append(acs)\n",
    "\n",
    "    # Concatenate all the appended data\n",
    "    dfu = pd.concat(appended_data, ignore_index=True)\n",
    "\n",
    "    dfu.to_csv(path + '/auction_aggregated_curves_france_' + date + '_gas.csv', index=False)"
   ],
   "metadata": {
    "collapsed": false,
    "pycharm": {
     "is_executing": true
    }
   },
   "outputs": []
  },
  {
   "cell_type": "code",
   "execution_count": null,
   "metadata": {
    "pycharm": {
     "is_executing": true
    }
   },
   "source": [
    "\n",
    "# def gcurve(date):\n",
    "#     ac = pd.read_excel(path + r'\\auction_aggregated_curves_france_'+date+'.xlsx',skiprows=1)\n",
    "#     pr = np.array([])\n",
    "#     vo = np.array([])\n",
    "#     print(ac['Hour'])\n",
    "#     for h in ac['Hour'].drop_duplicates():\n",
    "#         ach = ac[ac['Hour']==h]\n",
    "#         x = ach['Volume'].values\n",
    "#         y = ach['Price'].values\n",
    "#         xd = np.diff(x)\n",
    "#         yd = y[1:]\n",
    "#         vo = np.append(vo,xd)\n",
    "#         pr = np.append(pr,yd)\n",
    "#     ind = np.argsort(pr)\n",
    "#     return pr[ind], vo[ind]\n",
    "        \n",
    "\n",
    "def gcurve(date):\n",
    "    try:\n",
    "        ac = pd.read_excel(path + r'\\auction_aggregated_curves_france_' + date + '.xlsx', skiprows=1)\n",
    "        if 'Hour' not in ac.columns:\n",
    "            print(f\"'Hour' column not found in the file for date: {date}\")\n",
    "            return np.array([]), np.array([])\n",
    "\n",
    "        pr = np.array([])\n",
    "        vo = np.array([])\n",
    "        for h in ac['Hour'].drop_duplicates():\n",
    "            ach = ac[ac['Hour'] == h]\n",
    "            ach = ach[ach['Sale/Purchase'] == 'Sell']\n",
    "            x = ach['Volume'].values\n",
    "            y = ach['Price'].values\n",
    "            xd = np.diff(x)\n",
    "            yd = y[1:]\n",
    "            vo = np.append(vo, xd)\n",
    "            pr = np.append(pr, yd)\n",
    "        ind = np.argsort(pr)\n",
    "        return pr[ind], vo[ind]\n",
    "\n",
    "    except Exception as e:\n",
    "        print(f\"Error processing file for date {date}: {e}\")\n",
    "        return np.array([]), np.array([])\n"
   ],
   "outputs": []
  },
  {
   "cell_type": "code",
   "execution_count": null,
   "metadata": {
    "pycharm": {
     "is_executing": true
    }
   },
   "source": [
    "\n",
    "dates = pd.date_range(pd.Timestamp(\"2016-01-01\"),periods=644)\n",
    "pdg = pd.DataFrame(index=pd.Index(range(644)))\n",
    "pdg['date'] = dates\n",
    "avs = pd.Series(index=pdg.index)\n",
    "sts = pd.Series(index=pdg.index)\n",
    "\n",
    "for i in pdg.index:\n",
    "    print(datet)\n",
    "    datet = pdg['date'][i]\n",
    "    date = datet.strftime(format='%Y%m%d')\n",
    "    pr, vo = gcurve(date)\n",
    "    av = np.sum(pr*vo)/np.sum(vo)\n",
    "\n",
    "    st = np.sqrt(np.sum(pr*pr*vo)/np.sum(vo)-av*av)\n",
    "    avs[i] = av\n",
    "    sts[i] = st\n",
    "\n",
    "pdg['av']=avs\n",
    "pdg['st'] =sts\n"
   ],
   "outputs": []
  },
  {
   "cell_type": "code",
   "execution_count": null,
   "source": [
    "\n",
    "gprice = pd.read_csv(r'D:\\DATA\\Macro Bond\\ICE Dutch TTF Daily Gas.csv', sep=',')\n",
    "\n",
    "gprice['Date'] = pd.to_datetime(gprice['Date'], errors='coerce')\n",
    "gprice.dropna(subset=['Date'], inplace=True)\n",
    "gprice.set_index('Date', inplace=True)\n",
    "gprice.sort_index(inplace=True)\n",
    "full_date_range = pd.date_range(start=gprice.index.min(), end=gprice.index.max(), freq='D')\n",
    "gprice = gprice.reindex(full_date_range)\n",
    "gprice.interpolate(method='linear', inplace=True)\n",
    "gprice.reset_index(inplace=True)\n",
    "gprice.rename(columns={'index': 'Date'}, inplace=True)"
   ],
   "metadata": {
    "collapsed": false,
    "pycharm": {
     "is_executing": true
    }
   },
   "outputs": []
  },
  {
   "cell_type": "code",
   "execution_count": null,
   "source": [
    "plt.plot(pdg['date'],pdg['av'],label='Average offer price')\n",
    "plt.plot(pdg['date'],pdg['st'],'--',label='Standard deviation')\n",
    "plt.plot(gprice['Date'][:644],1./0.44*gprice['Natural Gas'][:644],linewidth=3,label='Fuel price')\n",
    "print(1./0.44*gprice['Natural Gas'][:644])\n",
    "plt.legend(loc=2)\n",
    "plt.xticks([pd.to_datetime('2016-1-1',format='%Y-%m-%d'),pd.to_datetime('2016-7-1',format='%Y-%m-%d'),\n",
    "            pd.to_datetime('2017-1-1',format='%Y-%m-%d'),pd.to_datetime('2017-7-1',format='%Y-%m-%d')],\n",
    "          ['Jan 2016', 'Jul 2016', 'Jan 2017','Jul 2017'])\n",
    "#plt.savefig('costdyn.pdf',format='pdf')"
   ],
   "metadata": {
    "collapsed": false,
    "pycharm": {
     "is_executing": true
    }
   },
   "outputs": []
  },
  {
   "cell_type": "code",
   "execution_count": null,
   "source": [
    "np.mean(pdg['av'])"
   ],
   "metadata": {
    "collapsed": false,
    "pycharm": {
     "is_executing": true
    }
   },
   "outputs": []
  },
  {
   "cell_type": "code",
   "execution_count": null,
   "source": [
    "np.mean(pdg['st'])"
   ],
   "metadata": {
    "collapsed": false,
    "pycharm": {
     "is_executing": true
    }
   },
   "outputs": []
  },
  {
   "cell_type": "code",
   "execution_count": null,
   "metadata": {
    "pycharm": {
     "is_executing": true
    }
   },
   "source": [
    "acconv = pdg['av'].autocorr(lag=1)\n",
    "print(acconv)\n"
   ],
   "outputs": []
  },
  {
   "cell_type": "markdown",
   "metadata": {},
   "source": [
    "Our aim is to calibrate the model\n",
    "$$\n",
    "C_{t+1} = a C_t + b \\theta_t + c + \\delta \\sqrt{C_t} \\epsilon_t\n",
    "$$\n",
    "To this end we use the least squares:\n",
    "$$\n",
    "\\min_{a,b,c}\\sum_{t=0}^{T-1} \\frac{(a C_t + b \\theta_t + c - C_{t+1})^2}{C_t}\n",
    "$$\n",
    "The first order conditions are\n",
    "\\begin{align*}\n",
    "& a \\sum_{t=0}^{T-1} C_t + b \\sum_{t=0}^{T-1}\\theta_t + cT = \\sum_{t=0}^{T-1}C_{t+1}\\\\\n",
    "&a\\sum_{t=0}^{T-1}\\theta_t +  b \\sum_{t=0}^{T-1}\\frac{\\theta^2_t}{C_t} + c \\sum_{t=0}^{T-1}\\frac{\\theta_t}{C_t} = \\sum_{t=0}^{T-1}\\frac{\\theta_t C_{t+1}}{C_t} \\\\\n",
    "&aT + b\\sum_{t=0}^{T-1}\\frac{\\theta_t}{C_t} + c\\sum_{t=0}^{T-1}\\frac{1}{C_t} =  \\sum_{t=0}^{T-1} \\frac{C_{t+1}}{C_t} \n",
    "\\end{align*} \n",
    "$$\n",
    "C_{t+1}-C_t = (1-a)\\left\\{\\frac{b}{1-a} \\theta_t + \\frac{c}{1-a}-C_t\\right\\}  + \\delta \\sqrt{C_t} \\epsilon_t\n",
    "$$"
   ]
  },
  {
   "cell_type": "code",
   "execution_count": null,
   "metadata": {
    "pycharm": {
     "is_executing": true
    }
   },
   "source": [
    "C = pdg['av'].values[:-1]\n",
    "Cp = pdg['av'].values[1:]\n",
    "theta = gprice['Natural Gas'][:643]\n",
    "T = len(theta)\n",
    "mat=np.array([[np.sum(C), np.sum(theta),T],[np.sum(theta),np.sum(theta*theta/C),np.sum(theta/C)],\n",
    "              [T,np.sum(theta/C),np.sum(1./C)]])\n",
    "vec = np.array([[np.sum(Cp), np.sum(theta*Cp/C),np.sum(Cp/C)]])\n",
    "coef = np.dot(np.linalg.inv(mat),np.transpose(vec))\n",
    "stdev = np.sqrt(np.sum((Cp-coef[0]*C-coef[1]*theta-coef[2])*(Cp-coef[0]*C-coef[1]*theta-coef[2])/C)/T)\n",
    "print(coef)\n",
    "print(stdev)"
   ],
   "outputs": []
  },
  {
   "cell_type": "code",
   "execution_count": null,
   "metadata": {
    "pycharm": {
     "is_executing": true
    }
   },
   "source": [
    "from scipy import stats\n",
    "import statsmodels.api as sm\n",
    "import matplotlib.pyplot as plt\n",
    "from statsmodels.sandbox.regression.predstd import wls_prediction_std\n",
    "mod_wls = sm.WLS(Cp, np.transpose(np.array([theta,np.ones(T)])), weights=np.ones(len(theta)))\n",
    "res_wls = mod_wls.fit()\n",
    "print(res_wls.summary())"
   ],
   "outputs": []
  },
  {
   "cell_type": "code",
   "execution_count": null,
   "metadata": {
    "pycharm": {
     "is_executing": true
    }
   },
   "source": [
    "coef"
   ],
   "outputs": []
  },
  {
   "cell_type": "code",
   "execution_count": null,
   "source": [
    "res.shape"
   ],
   "metadata": {
    "collapsed": false,
    "pycharm": {
     "is_executing": true
    }
   },
   "outputs": []
  },
  {
   "cell_type": "code",
   "execution_count": null,
   "metadata": {
    "pycharm": {
     "is_executing": true
    }
   },
   "source": [
    "plt.figure(figsize=(12,12))\n",
    "for i in range(24):\n",
    "    ach = ac[ac['Hour']==i+1]\n",
    "    acs=ach[(ach['Sale/Purchase']=='Sell')&(ach['Price']<100)&(ach['Price']>0)]\n",
    "    mind = np.argmax(np.diff(res[i]))\n",
    "    #acs = acs[(ach['Volume']<res[i][mind+1])&(ach['Volume']>res[i][mind])]\n",
    "    acs = acs[(acs['Volume'] < res[mind + 1]) & (acs['Volume'] > res[mind])]\n",
    "\n",
    "    # initialize piecewise linear fit with your x and y data\n",
    "    plt.subplot(6,4,i+1)\n",
    "    plt.title(str(i))\n",
    "    plt.plot(acs['Volume'],acs['Price'],'d')\n",
    "    for j in range(6):\n",
    "        plt.plot([res[i][j],res[i][j]],[-100,200],':b')\n",
    "#ac"
   ],
   "outputs": []
  },
  {
   "cell_type": "code",
   "execution_count": null,
   "metadata": {
    "pycharm": {
     "is_executing": true
    }
   },
   "source": [
    "gasvoldict = {}\n",
    "gasprdict = {}"
   ],
   "outputs": []
  },
  {
   "cell_type": "code",
   "execution_count": null,
   "metadata": {
    "pycharm": {
     "is_executing": true
    }
   },
   "source": [],
   "outputs": []
  },
  {
   "cell_type": "code",
   "execution_count": null,
   "metadata": {
    "pycharm": {
     "is_executing": true
    }
   },
   "source": [
    "mprice = np.zeros(24)\n",
    "mprice2 = np.zeros(24)\n",
    "\n",
    "\n",
    "for i in range(24):\n",
    "    mprice[i] =  np.dot(np.diff(gasvoldict[date][i]),\n",
    "                        0.5*(gasprdict[date][i][1:]+gasprdict[date][i][:-1]))/np.sum(np.diff(gasvoldict[date][i]))\n",
    "    mprice2[i] =  np.dot(np.diff(gasvoldict[date][i]),\n",
    "                        0.25*(gasprdict[date][i][1:]+gasprdict[date][i][:-1])*(gasprdict[date][i][1:]+gasprdict[date][i][:-1]))/np.sum(np.diff(gasvoldict[date][i]))\n",
    "\n",
    "\n",
    "plt.plot(mprice)\n",
    "plt.plot(np.sqrt(mprice2-mprice*mprice))"
   ],
   "outputs": []
  },
  {
   "cell_type": "code",
   "execution_count": null,
   "metadata": {
    "pycharm": {
     "is_executing": true
    }
   },
   "source": [],
   "outputs": []
  },
  {
   "cell_type": "code",
   "execution_count": null,
   "metadata": {
    "pycharm": {
     "is_executing": true
    }
   },
   "source": [
    "pdg['Volume'] = pd.Series()"
   ],
   "outputs": []
  },
  {
   "cell_type": "code",
   "execution_count": null,
   "metadata": {
    "pycharm": {
     "is_executing": true
    }
   },
   "source": [
    "pdg"
   ],
   "outputs": []
  },
  {
   "cell_type": "code",
   "execution_count": null,
   "metadata": {
    "pycharm": {
     "is_executing": true
    }
   },
   "source": [
    "pdg= pd.DataFrame(index=pd.Index(range(644)))"
   ],
   "outputs": []
  },
  {
   "cell_type": "code",
   "execution_count": null,
   "metadata": {
    "pycharm": {
     "is_executing": true
    }
   },
   "source": [
    "pdg['date'] = dates"
   ],
   "outputs": []
  },
  {
   "cell_type": "code",
   "execution_count": null,
   "metadata": {
    "pycharm": {
     "is_executing": true
    }
   },
   "source": [
    "pdg['av'] = pd.Series()"
   ],
   "outputs": []
  },
  {
   "cell_type": "code",
   "execution_count": null,
   "metadata": {
    "pycharm": {
     "is_executing": true
    }
   },
   "source": [
    "pdg.at['av',1] = 1."
   ],
   "outputs": []
  },
  {
   "cell_type": "code",
   "execution_count": null,
   "metadata": {
    "pycharm": {
     "is_executing": true
    }
   },
   "source": [
    "pdg"
   ],
   "outputs": []
  },
  {
   "cell_type": "code",
   "execution_count": null,
   "metadata": {
    "pycharm": {
     "is_executing": true
    }
   },
   "source": [
    "pd.to_datetime('2016-1-1',format='%Y-%m-%d')"
   ],
   "outputs": []
  },
  {
   "cell_type": "code",
   "execution_count": null,
   "metadata": {
    "pycharm": {
     "is_executing": true
    }
   },
   "source": [
    "demand = np.array([33.68224257,33.11312951,32.68037962,32.45024889,32.5252278,32.8056116,33.1920415,33.56173284,\n",
    "                   34.02609597,34.6428338,35.3374822,36.01979387,36.77502077,37.29264166,37.77772148,38.38718845,\n",
    "                   38.90240062,39.44496983])\n",
    "gas_price = np.array([19.45396009,18.08876991,16.38228218,16.72357973,17.40617482,17.74747236,18.43006746,\n",
    "                      19.11266255,19.45396009,20.13655518,20.47785273,21.16044782,21.50174536,21.50174536,\n",
    "                      21.50174536,21.50174536,21.50174536,21.50174536])"
   ],
   "outputs": []
  },
  {
   "cell_type": "code",
   "execution_count": null,
   "metadata": {
    "pycharm": {
     "is_executing": true
    }
   },
   "source": [
    "plt.figure(figsize=(12,6))\n",
    "\n",
    "plt.subplot(1,2,1)\n",
    "\n",
    "plt.xlabel('Year')\n",
    "plt.xticks([2018,2022,2026,2030,2034])\n",
    "plt.ylabel('Gas price, GBP/MWh')\n",
    "plt.plot(range(2018,2036), gas_price)\n",
    "\n",
    "plt.subplot(1,2,2)\n",
    "plt.xlabel('Year')\n",
    "plt.xticks([2018,2022,2026,2030,2034])\n",
    "plt.ylabel('Electricity demand, MW')  # we already handled the x-label with ax1\n",
    "plt.plot(range(2018,2036), demand)\n",
    "plt.savefig('pricedemand.pdf',format=\"pdf\")\n"
   ],
   "outputs": []
  },
  {
   "cell_type": "code",
   "execution_count": null,
   "metadata": {
    "pycharm": {
     "is_executing": true
    }
   },
   "source": [
    "pwd"
   ],
   "outputs": []
  },
  {
   "cell_type": "code",
   "execution_count": null,
   "metadata": {
    "pycharm": {
     "is_executing": true
    }
   },
   "source": [
    "cd('/Users/peter/Documents/Temp')"
   ],
   "outputs": []
  },
  {
   "cell_type": "code",
   "execution_count": null,
   "metadata": {
    "pycharm": {
     "is_executing": true
    }
   },
   "source": [
    "cd Temp"
   ],
   "outputs": []
  },
  {
   "cell_type": "code",
   "execution_count": null,
   "metadata": {
    "pycharm": {
     "is_executing": true
    }
   },
   "source": [
    "dem = pd.read_csv('gridwatch_demand.csv')"
   ],
   "outputs": []
  },
  {
   "cell_type": "code",
   "execution_count": null,
   "metadata": {
    "pycharm": {
     "is_executing": true
    }
   },
   "source": [
    "dem['timestamp'][0].weekday()"
   ],
   "outputs": []
  },
  {
   "cell_type": "code",
   "execution_count": null,
   "metadata": {
    "pycharm": {
     "is_executing": true
    }
   },
   "source": [
    "dem['timestamp'] = pd.to_datetime(dem['timestamp'])\n",
    "\n"
   ],
   "outputs": []
  },
  {
   "cell_type": "code",
   "execution_count": null,
   "metadata": {
    "pycharm": {
     "is_executing": true
    }
   },
   "source": [
    "len(dem['timestamp'])"
   ],
   "outputs": []
  },
  {
   "cell_type": "code",
   "execution_count": null,
   "metadata": {
    "pycharm": {
     "is_executing": true
    }
   },
   "source": [
    "newday = False\n",
    "peak = 0\n",
    "offpeak = 0\n",
    "pcount = 0\n",
    "opcount = 0\n",
    "lpeak = []\n",
    "loffpeak  = []\n",
    "for i in range(98,885206):\n",
    "    if dem['timestamp'][i].weekday()!=5:\n",
    "        newday = True\n",
    "    if newday and (dem['timestamp'][i].weekday()==5):\n",
    "        lpeak.append(peak/pcount)\n",
    "        loffpeak.append(offpeak/opcount)\n",
    "        newday = False\n",
    "        peak = 0\n",
    "        offpeak = 0\n",
    "        pcount = 0\n",
    "        opcount = 0\n",
    "    if (dem['timestamp'][i].weekday()<=4) and (dem['timestamp'][i].hour>=7) and (dem['timestamp'][i].hour<=19):\n",
    "        pcount = pcount+1\n",
    "        peak = peak + dem['demand'][i]\n",
    "    else:\n",
    "        opcount = opcount+1\n",
    "        offpeak = offpeak + dem['demand'][i]\n",
    "\n",
    "        \n",
    "        "
   ],
   "outputs": []
  },
  {
   "cell_type": "code",
   "execution_count": null,
   "metadata": {
    "pycharm": {
     "is_executing": true
    }
   },
   "source": [
    "apeak = np.array(lpeak)\n",
    "aoffpeak = np.array(loffpeak)\n",
    "\n"
   ],
   "outputs": []
  },
  {
   "cell_type": "code",
   "execution_count": null,
   "metadata": {
    "pycharm": {
     "is_executing": true
    }
   },
   "source": [
    "Dc = np.mean(apeak/aoffpeak)"
   ],
   "outputs": []
  },
  {
   "cell_type": "code",
   "execution_count": null,
   "metadata": {
    "pycharm": {
     "is_executing": true
    }
   },
   "source": [
    "Dc"
   ],
   "outputs": []
  },
  {
   "cell_type": "code",
   "execution_count": null,
   "metadata": {
    "pycharm": {
     "is_executing": true
    }
   },
   "source": [
    "\n",
    "import pwlf"
   ],
   "outputs": []
  },
  {
   "cell_type": "code",
   "execution_count": null,
   "metadata": {
    "pycharm": {
     "is_executing": true
    }
   },
   "source": [
    "from numpy.linalg import lstsq\n",
    "from scipy.optimize import minimize\n",
    "def lin2(y,t,t1):\n",
    "    a = np.zeros((len(y),3))\n",
    "    a[:,0] = np.ones(len(y))\n",
    "    a[:,1] = t\n",
    "    a[:,2] = (t-t1)*(t>t1)\n",
    "    res = lstsq(a,y,rcond=None)\n",
    "    return res[0], res[1], np.dot(a,res[0])\n",
    "def linfit(y,t):\n",
    "    res = np.zeros(len(y)-2)\n",
    "    for i,t1 in enumerate(t[1:-1]):\n",
    "        x,resid,yp  = lin2(y,t,t1)\n",
    "        res[i] = resid\n",
    "    iopt = np.argmin(res)\n",
    "    x, resid, yp = lin2(y,t,t[iopt+1])\n",
    "    return t[iopt+1], x, resid, yp\n",
    "    \n",
    "def lin3(y,t,t1,t2):\n",
    "    # third function: integral of (t-t_1)^+ - (t-t_2)^+ \n",
    "    # which equals ((t-t_1)^+)^2 - ((t-t_2)^+)^2 \n",
    "    a = np.zeros((len(y),3))\n",
    "    a[:,0] = np.ones(len(y))\n",
    "    a[:,1] = t\n",
    "    a[:,2] = (t-t1)*(t-t1)*(t>t1) - (t-t2)*(t-t2)*(t>t2)\n",
    "    res =  lstsq(a,y,rcond=None)\n",
    "    return res[1], res[0], np.dot(a,res[0])\n",
    "\n",
    "def linfit(y,t):\n",
    "    res = np.zeros(len(y)-2)\n",
    "    for i,t1 in enumerate(t[1:-1]):\n",
    "        x,resid,yp  = lin2(y,t,t1)\n",
    "        res[i] = resid\n",
    "    iopt = np.argmin(res)\n",
    "    x, resid, yp = lin2(y,t,t[iopt+1])\n",
    "    return t[iopt+1], x, resid, yp\n",
    "        \n",
    "def linfit2(y,t):\n",
    "    #t2 = t0 + v\n",
    "    #t1 = t0 + uv\n",
    "    res = minimize(lambda x:lin3(y,t,t[0]+x[0]*x[1],t[0]+x[1])[0], [0.5,int(0.7*(t[-1]-t[0]))],\n",
    "                    method='TNC', bounds=((0,1.-1./(t[-1]-t[0])),(1,t[-1]-t[0])))\n",
    "    resid,x, yp = lin3(y,t,t[0]+res.x[0]*res.x[1],t[0]+res.x[1])\n",
    "    return t[0]+res.x[0]*res.x[1],t[0]+res.x[1], x, resid, yp\n",
    "\n",
    "    \n"
   ],
   "outputs": []
  },
  {
   "cell_type": "code",
   "execution_count": null,
   "metadata": {
    "pycharm": {
     "is_executing": true
    }
   },
   "source": [
    "import numpy as np\n",
    "t = np.arange(100)\n",
    "t[50:] = 52+np.arange(50)\n",
    "y = 15*np.random.randn(100)\n",
    "y[50:] = y[50:] + 2+np.arange(50)\n",
    "y[70:] = y[70:] + 2+2*np.arange(30)\n",
    "topt1,topt2, x, resid, yp = linfit2(y,t)\n",
    "print(topt1,topt2)\n",
    "#lin3(y,t,30,60)"
   ],
   "outputs": []
  },
  {
   "cell_type": "code",
   "execution_count": null,
   "metadata": {
    "pycharm": {
     "is_executing": true
    }
   },
   "source": [
    "import matplotlib\n",
    "import matplotlib.pyplot as plt\n",
    "%matplotlib inline\n",
    "plt.plot(t,y)\n",
    "plt.plot(t,yp)"
   ],
   "outputs": []
  },
  {
   "cell_type": "code",
   "execution_count": null,
   "metadata": {
    "pycharm": {
     "is_executing": true
    }
   },
   "source": [
    "lin3(ld,t,50,50)"
   ],
   "outputs": []
  },
  {
   "cell_type": "code",
   "execution_count": null,
   "metadata": {
    "pycharm": {
     "is_executing": true
    }
   },
   "source": [
    "plt.plot(t,y,t,yp)"
   ],
   "outputs": []
  },
  {
   "cell_type": "code",
   "execution_count": null,
   "metadata": {
    "pycharm": {
     "is_executing": true
    }
   },
   "source": [
    "np.arange(10)[1:-1]"
   ],
   "outputs": []
  },
  {
   "cell_type": "code",
   "execution_count": null,
   "metadata": {
    "pycharm": {
     "is_executing": true
    }
   },
   "source": [
    "np.where(y>0)[0]"
   ],
   "outputs": []
  },
  {
   "cell_type": "code",
   "execution_count": null,
   "metadata": {
    "pycharm": {
     "is_executing": true
    }
   },
   "source": [
    "27.42682572440752 50.34808748010372 [ 0.60450058  0.03759995 -0.00263961]"
   ],
   "outputs": []
  },
  {
   "cell_type": "code",
   "execution_count": null,
   "metadata": {
    "pycharm": {
     "is_executing": true
    }
   },
   "source": [
    "ld = [0.69314718, 0.,         2.19722458, 2.39789527, 1.09861229, 2.7080502,\n",
    " 2.56494936, 2.89037176, 2.48490665, 3.58351894, 3.04452244, 3.29583687,\n",
    " 4.2341065,  4.85203026, 4.35670883, 4.71849887, 4.71849887, 5.22574667,\n",
    " 5.48063892, 5.44241771, 5.89989735, 5.70044357, 5.7651911,  5.6767538,\n",
    " 6.03548143, 6.2126061,  6.23244802, 6.15485809, 7.60290046, 6.95939851,\n",
    " 6.24997524, 6.72503364, 7.25629724, 6.29341928, 7.20117088, 6.89467004,\n",
    " 6.453625,   6.32972091, 6.3526294,  6.63594656, 7.27100854, 6.62406523,\n",
    " 6.63463336, 6.4645883,  5.97888576, 6.3044488,  6.27476202 ,6.29894925,\n",
    " 6.24610677, 5.96357934, 5.91079664, 5.48893773]\n"
   ],
   "outputs": []
  },
  {
   "cell_type": "code",
   "execution_count": null,
   "metadata": {
    "pycharm": {
     "is_executing": true
    }
   },
   "source": [
    "lin3(ld,t,0,1)"
   ],
   "outputs": []
  },
  {
   "cell_type": "code",
   "execution_count": null,
   "metadata": {
    "pycharm": {
     "is_executing": true
    }
   },
   "source": [
    "test = np.zeros((52,52))\n",
    "m = np.zeros(51)\n",
    "for k in range(100):\n",
    "    for i in range(51):\n",
    "        for j in range(i+1,52):\n",
    "            test[i,j] = lin3(ld,t,i,j)[0]\n",
    "        m[i] = np.min(test[i,i+1:])\n"
   ],
   "outputs": []
  },
  {
   "cell_type": "code",
   "execution_count": null,
   "metadata": {
    "pycharm": {
     "is_executing": true
    }
   },
   "source": [
    "from mpl_toolkits import mplot3d\n",
    "x = np.outer(np.arange(52), np.ones(52))\n",
    "y = x.copy().T # transpose\n",
    "\n",
    "fig = plt.figure()\n",
    "ax = plt.axes(projection='3d')\n",
    "\n",
    "ax.plot_surface(x, y, test,cmap='viridis', edgecolor='none')\n",
    "ax.set_title('Surface plot')\n"
   ],
   "outputs": []
  },
  {
   "cell_type": "code",
   "execution_count": null,
   "metadata": {
    "pycharm": {
     "is_executing": true
    }
   },
   "source": [
    "topt1,topt2, x, resid, yp = linfit2(ld[1:],t[1:])\n",
    "print(topt1, topt2, x)\n",
    "plt.plot(t[1:],ld[1:],t[1:],yp)\n",
    "print(x[1],x[1] + 2*x[2]*(topt2-topt1))\n",
    "topt1,topt2, x, resid, yp = linfit2(ld[2:],t[2:])\n",
    "print(topt1, topt2, x)\n",
    "plt.plot(t[2:],ld[2:],t[2:],yp)\n",
    "print(x[1],x[1] + 2*x[2]*(topt2-topt1))"
   ],
   "outputs": []
  },
  {
   "cell_type": "code",
   "execution_count": null,
   "metadata": {
    "pycharm": {
     "is_executing": true
    }
   },
   "source": [
    "topt1,topt2, x, resid, yp = linfit2(ld[2:],t[2:])\n",
    "print(topt1, topt2, x)\n",
    "plt.plot(t[2:],ld[2:],t[2:],yp)\n",
    "print(x[1],x[1] + 2*x[2]*(topt2-topt1))"
   ],
   "outputs": []
  },
  {
   "cell_type": "code",
   "execution_count": null,
   "metadata": {
    "pycharm": {
     "is_executing": true
    }
   },
   "source": [
    "topt1,topt2, x, resid, yp = linfit2(ld[:],t[:])\n",
    "print(topt1, topt2, x)\n",
    "plt.plot(t[:],ld[:],t[:],yp)\n",
    "print(x[1],x[1] + 2*x[2]*(topt2-topt1))"
   ],
   "outputs": []
  },
  {
   "cell_type": "code",
   "execution_count": null,
   "metadata": {
    "pycharm": {
     "is_executing": true
    }
   },
   "source": [
    "plt.plot(t,ld,t,yp)"
   ],
   "outputs": []
  },
  {
   "cell_type": "code",
   "execution_count": null,
   "metadata": {
    "pycharm": {
     "is_executing": true
    }
   },
   "source": [
    "r_deactiv = 1./6.5\n",
    "(x[1]+r_deactiv)/r_deactiv"
   ],
   "outputs": []
  },
  {
   "cell_type": "code",
   "execution_count": null,
   "metadata": {
    "pycharm": {
     "is_executing": true
    }
   },
   "source": [
    "(x[1] + 2*x[2]*(topt2-topt1) + r_deactiv)/r_deactiv"
   ],
   "outputs": []
  },
  {
   "cell_type": "code",
   "execution_count": null,
   "metadata": {
    "pycharm": {
     "is_executing": true
    }
   },
   "source": [
    "ldg = [1.09861229, 1.38629436, 0.,         3.40119738, 0.69314718, 3.09104245,\n",
    " 3.29583687, 3.4657359,  3.13549422, 3.8918203,  4.00733319, 4.27666612,\n",
    " 4.15888308, 4.18965474, 4.85203026, 5.00394631, 4.94164242, 4.97673374,\n",
    " 4.94875989, 5.21493576, 4.52178858, 5.15329159, 5.53733427, 5.50533154,\n",
    " 5.58349631, 5.14166356, 4.8598124,  4.83628191, 5.13579844, 5.65248918,\n",
    " 5.75257264, 5.70044357, 5.48893773, 5.21493576, 4.70048037, 5.26785816,\n",
    " 5.63835467, 5.37063803, 5.42495002, 5.18738581, 4.94164242] \n"
   ],
   "outputs": []
  },
  {
   "cell_type": "code",
   "execution_count": null,
   "metadata": {
    "pycharm": {
     "is_executing": true
    }
   },
   "source": [
    "8.055982306677949 26.02599173722888 [ 0.39176031  0.28665305 -0.00796254]"
   ],
   "outputs": []
  },
  {
   "cell_type": "code",
   "execution_count": null,
   "metadata": {
    "pycharm": {
     "is_executing": true
    }
   },
   "source": [
    "topt1,topt2, x, resid, yp = linfit2(ldg,t)"
   ],
   "outputs": []
  },
  {
   "cell_type": "code",
   "execution_count": null,
   "metadata": {
    "pycharm": {
     "is_executing": true
    }
   },
   "source": [
    "plt.plot(t,ldg,t,yp)"
   ],
   "outputs": []
  },
  {
   "cell_type": "code",
   "execution_count": null,
   "metadata": {
    "pycharm": {
     "is_executing": true
    }
   },
   "source": [
    "timedelta(days=30)"
   ],
   "outputs": []
  },
  {
   "cell_type": "code",
   "execution_count": null,
   "metadata": {
    "pycharm": {
     "is_executing": true
    }
   },
   "source": [
    "start_date = datetime.strptime('16/02/2020', \"%d/%m/%Y\")\n",
    "end_date = datetime.strptime('16/03/2020', \"%d/%m/%Y\")"
   ],
   "outputs": []
  },
  {
   "cell_type": "code",
   "execution_count": null,
   "metadata": {
    "pycharm": {
     "is_executing": true
    }
   },
   "source": [
    "(end_date-start_date).days"
   ],
   "outputs": []
  },
  {
   "cell_type": "code",
   "execution_count": null,
   "metadata": {
    "pycharm": {
     "is_executing": true
    }
   },
   "source": [
    "linfit2(ld,t)"
   ],
   "outputs": []
  },
  {
   "cell_type": "code",
   "execution_count": null,
   "metadata": {
    "pycharm": {
     "is_executing": true
    }
   },
   "source": [
    "from matplotlib import pyplot as plt\n",
    "import numpy as np\n",
    "\n",
    "def func(x):\n",
    "    return 1/(1+25*x**2)\n",
    "\n",
    "# make example data\n",
    "x = np.linspace(-1,1,300)\n",
    "y = func(x) + np.random.normal(0, 0.2, len(x))\n",
    "\n",
    "# The number of knots can be used to control the amount of smoothness\n",
    "model_6 = get_natural_cubic_spline_model(t, ld, minval=min(t), maxval=max(t), n_knots=4)\n",
    "#model_15 = get_natural_cubic_spline_model(t, ld, minval=min(t), maxval=max(t), n_knots=15)\n",
    "y_est_6 = model_6.predict(t)\n",
    "#y_est_15 = model_15.predict(t)\n",
    "\n",
    "\n",
    "plt.plot(t, ld, ls='', marker='.', label='originals')\n",
    "plt.plot(t, y_est_6,  label='n_knots = 6')\n",
    "#plt.plot(t[1:],np.diff(y_est_6))\n",
    "#plt.plot(t, y_est_15, marker='.', label='n_knots = 15')\n",
    "plt.legend(); plt.show()"
   ],
   "outputs": []
  },
  {
   "cell_type": "code",
   "execution_count": null,
   "metadata": {
    "pycharm": {
     "is_executing": true
    }
   },
   "source": [
    "import numpy as np\n",
    "import pandas as pd\n",
    "from sklearn.base import BaseEstimator, TransformerMixin\n",
    "from sklearn.linear_model import LinearRegression\n",
    "from sklearn.pipeline import Pipeline\n",
    "\n",
    "\n",
    "def get_natural_cubic_spline_model(x, y, minval=None, maxval=None, n_knots=None, knots=None):\n",
    "    \"\"\"\n",
    "    Get a natural cubic spline model for the data.\n",
    "\n",
    "    For the knots, give (a) `knots` (as an array) or (b) minval, maxval and n_knots.\n",
    "\n",
    "    If the knots are not directly specified, the resulting knots are equally\n",
    "    space within the *interior* of (max, min).  That is, the endpoints are\n",
    "    *not* included as knots.\n",
    "\n",
    "    Parameters\n",
    "    ----------\n",
    "    x: np.array of float\n",
    "        The input data\n",
    "    y: np.array of float\n",
    "        The outpur data\n",
    "    minval: float \n",
    "        Minimum of interval containing the knots.\n",
    "    maxval: float \n",
    "        Maximum of the interval containing the knots.\n",
    "    n_knots: positive integer \n",
    "        The number of knots to create.\n",
    "    knots: array or list of floats \n",
    "        The knots.\n",
    "\n",
    "    Returns\n",
    "    --------\n",
    "    model: a model object\n",
    "        The returned model will have following method:\n",
    "        - predict(x):\n",
    "            x is a numpy array. This will return the predicted y-values.\n",
    "    \"\"\"\n",
    "\n",
    "    if knots:\n",
    "        spline = NaturalCubicSpline(knots=knots)\n",
    "    else:\n",
    "        spline = NaturalCubicSpline(max=maxval, min=minval, n_knots=n_knots)\n",
    "\n",
    "    p = Pipeline([\n",
    "        ('nat_cubic', spline),\n",
    "        ('regression', LinearRegression(fit_intercept=True))\n",
    "    ])\n",
    "\n",
    "    p.fit(x, y)\n",
    "\n",
    "    return p\n",
    "\n",
    "\n",
    "class AbstractSpline(BaseEstimator, TransformerMixin):\n",
    "    \"\"\"Base class for all spline basis expansions.\"\"\"\n",
    "\n",
    "    def __init__(self, max=None, min=None, n_knots=None, n_params=None, knots=None):\n",
    "        if knots is None:\n",
    "            if not n_knots:\n",
    "                n_knots = self._compute_n_knots(n_params)\n",
    "            knots = np.linspace(min, max, num=(n_knots + 2))[1:-1]\n",
    "            max, min = np.max(knots), np.min(knots)\n",
    "        self.knots = np.asarray(knots)\n",
    "\n",
    "    @property\n",
    "    def n_knots(self):\n",
    "        return len(self.knots)\n",
    "\n",
    "    def fit(self, *args, **kwargs):\n",
    "        return self\n",
    "\n",
    "\n",
    "class NaturalCubicSpline(AbstractSpline):\n",
    "    \"\"\"Apply a natural cubic basis expansion to an array.\n",
    "    The features created with this basis expansion can be used to fit a\n",
    "    piecewise cubic function under the constraint that the fitted curve is\n",
    "    linear *outside* the range of the knots..  The fitted curve is continuously\n",
    "    differentiable to the second order at all of the knots.\n",
    "    This transformer can be created in two ways:\n",
    "      - By specifying the maximum, minimum, and number of knots.\n",
    "      - By specifying the cutpoints directly.  \n",
    "\n",
    "    If the knots are not directly specified, the resulting knots are equally\n",
    "    space within the *interior* of (max, min).  That is, the endpoints are\n",
    "    *not* included as knots.\n",
    "    Parameters\n",
    "    ----------\n",
    "    min: float \n",
    "        Minimum of interval containing the knots.\n",
    "    max: float \n",
    "        Maximum of the interval containing the knots.\n",
    "    n_knots: positive integer \n",
    "        The number of knots to create.\n",
    "    knots: array or list of floats \n",
    "        The knots.\n",
    "    \"\"\"\n",
    "\n",
    "    def _compute_n_knots(self, n_params):\n",
    "        return n_params\n",
    "\n",
    "    @property\n",
    "    def n_params(self):\n",
    "        return self.n_knots - 1\n",
    "\n",
    "    def transform(self, X, **transform_params):\n",
    "        X_spl = self._transform_array(X)\n",
    "        if isinstance(X, pd.Series):\n",
    "            col_names = self._make_names(X)\n",
    "            X_spl = pd.DataFrame(X_spl, columns=col_names, index=X.index)\n",
    "        return X_spl\n",
    "\n",
    "    def _make_names(self, X):\n",
    "        first_name = \"{}_spline_linear\".format(X.name)\n",
    "        rest_names = [\"{}_spline_{}\".format(X.name, idx)\n",
    "                      for idx in range(self.n_knots - 2)]\n",
    "        return [first_name] + rest_names\n",
    "\n",
    "    def _transform_array(self, X, **transform_params):\n",
    "        X = X.squeeze()\n",
    "        try:\n",
    "            X_spl = np.zeros((X.shape[0], self.n_knots - 1))\n",
    "        except IndexError: # For arrays with only one element\n",
    "            X_spl = np.zeros((1, self.n_knots - 1))\n",
    "        X_spl[:, 0] = X.squeeze()\n",
    "\n",
    "        def d(knot_idx, x):\n",
    "            def ppart(t): return np.maximum(0, t)\n",
    "\n",
    "            def cube(t): return t*t*t\n",
    "            numerator = (cube(ppart(x - self.knots[knot_idx]))\n",
    "                         - cube(ppart(x - self.knots[self.n_knots - 1])))\n",
    "            denominator = self.knots[self.n_knots - 1] - self.knots[knot_idx]\n",
    "            return numerator / denominator\n",
    "\n",
    "        for i in range(0, self.n_knots - 2):\n",
    "            X_spl[:, i+1] = (d(i, X) - d(self.n_knots - 2, X)).squeeze()\n",
    "        return X_spl"
   ],
   "outputs": []
  },
  {
   "cell_type": "code",
   "execution_count": null,
   "metadata": {
    "pycharm": {
     "is_executing": true
    }
   },
   "source": [],
   "outputs": []
  },
  {
   "cell_type": "code",
   "execution_count": null,
   "metadata": {
    "pycharm": {
     "is_executing": true
    }
   },
   "source": [
    "model_6.steps[0][1]"
   ],
   "outputs": []
  },
  {
   "cell_type": "code",
   "execution_count": null,
   "metadata": {
    "pycharm": {
     "is_executing": true
    }
   },
   "source": [
    "gamma=1./6.5\n",
    "(np.diff(y_est_6)+gamma)/gamma"
   ],
   "outputs": []
  },
  {
   "cell_type": "code",
   "execution_count": null,
   "metadata": {
    "pycharm": {
     "is_executing": true
    }
   },
   "source": [
    "df = pd.DataFrame({'A':[1, 2, 3], 'B':[1,2,3]})"
   ],
   "outputs": []
  },
  {
   "cell_type": "code",
   "execution_count": null,
   "metadata": {
    "pycharm": {
     "is_executing": true
    }
   },
   "source": [
    "df.loc[df['A']>1,'B'] = [5,6]"
   ],
   "outputs": []
  },
  {
   "cell_type": "code",
   "execution_count": null,
   "metadata": {
    "pycharm": {
     "is_executing": true
    }
   },
   "source": [
    "df"
   ],
   "outputs": []
  },
  {
   "cell_type": "code",
   "execution_count": null,
   "metadata": {
    "pycharm": {
     "is_executing": true
    }
   },
   "source": [
    "from scipy.interpolate import interp1d\n",
    "f = interp1d(np.arange(10), np.arange(10), kind='linear', bounds_error=False, fill_value=10)"
   ],
   "outputs": []
  },
  {
   "cell_type": "code",
   "execution_count": null,
   "metadata": {
    "pycharm": {
     "is_executing": true
    }
   },
   "source": [
    "f([5,10,15])"
   ],
   "outputs": []
  },
  {
   "cell_type": "code",
   "execution_count": null,
   "metadata": {
    "pycharm": {
     "is_executing": true
    }
   },
   "source": [],
   "outputs": []
  }
 ],
 "metadata": {
  "kernelspec": {
   "display_name": "Python 3",
   "language": "python",
   "name": "python3"
  },
  "language_info": {
   "codemirror_mode": {
    "name": "ipython",
    "version": 3
   },
   "file_extension": ".py",
   "mimetype": "text/x-python",
   "name": "python",
   "nbconvert_exporter": "python",
   "pygments_lexer": "ipython3",
   "version": "3.8.5"
  }
 },
 "nbformat": 4,
 "nbformat_minor": 1
}
