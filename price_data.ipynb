{
 "cells": [
  {
   "cell_type": "code",
   "execution_count": 1,
   "outputs": [],
   "source": [
    "import os\n",
    "import pandas as pd"
   ],
   "metadata": {
    "collapsed": false,
    "pycharm": {
     "name": "#%%\n"
    }
   }
  },
  {
   "cell_type": "code",
   "execution_count": 2,
   "outputs": [
    {
     "name": "stdout",
     "output_type": "stream",
     "text": [
      "C:\\Users\\Alicia BASSIERE\\OneDrive - GENES\\Documents\\DATA\\ENTSO-E\\SFTP_Germany\\Prices\\2014_12_DayAheadPrices_12.1.D.csv\n",
      "C:\\Users\\Alicia BASSIERE\\OneDrive - GENES\\Documents\\DATA\\ENTSO-E\\SFTP_Germany\\Prices\\2015_01_DayAheadPrices_12.1.D.csv\n",
      "C:\\Users\\Alicia BASSIERE\\OneDrive - GENES\\Documents\\DATA\\ENTSO-E\\SFTP_Germany\\Prices\\2015_02_DayAheadPrices_12.1.D.csv\n",
      "C:\\Users\\Alicia BASSIERE\\OneDrive - GENES\\Documents\\DATA\\ENTSO-E\\SFTP_Germany\\Prices\\2015_03_DayAheadPrices_12.1.D.csv\n",
      "C:\\Users\\Alicia BASSIERE\\OneDrive - GENES\\Documents\\DATA\\ENTSO-E\\SFTP_Germany\\Prices\\2015_04_DayAheadPrices_12.1.D.csv\n",
      "C:\\Users\\Alicia BASSIERE\\OneDrive - GENES\\Documents\\DATA\\ENTSO-E\\SFTP_Germany\\Prices\\2015_05_DayAheadPrices_12.1.D.csv\n",
      "C:\\Users\\Alicia BASSIERE\\OneDrive - GENES\\Documents\\DATA\\ENTSO-E\\SFTP_Germany\\Prices\\2015_06_DayAheadPrices_12.1.D.csv\n",
      "C:\\Users\\Alicia BASSIERE\\OneDrive - GENES\\Documents\\DATA\\ENTSO-E\\SFTP_Germany\\Prices\\2015_07_DayAheadPrices_12.1.D.csv\n",
      "C:\\Users\\Alicia BASSIERE\\OneDrive - GENES\\Documents\\DATA\\ENTSO-E\\SFTP_Germany\\Prices\\2015_08_DayAheadPrices_12.1.D.csv\n",
      "C:\\Users\\Alicia BASSIERE\\OneDrive - GENES\\Documents\\DATA\\ENTSO-E\\SFTP_Germany\\Prices\\2015_09_DayAheadPrices_12.1.D.csv\n",
      "C:\\Users\\Alicia BASSIERE\\OneDrive - GENES\\Documents\\DATA\\ENTSO-E\\SFTP_Germany\\Prices\\2015_10_DayAheadPrices_12.1.D.csv\n",
      "C:\\Users\\Alicia BASSIERE\\OneDrive - GENES\\Documents\\DATA\\ENTSO-E\\SFTP_Germany\\Prices\\2015_11_DayAheadPrices_12.1.D.csv\n",
      "C:\\Users\\Alicia BASSIERE\\OneDrive - GENES\\Documents\\DATA\\ENTSO-E\\SFTP_Germany\\Prices\\2015_12_DayAheadPrices_12.1.D.csv\n",
      "C:\\Users\\Alicia BASSIERE\\OneDrive - GENES\\Documents\\DATA\\ENTSO-E\\SFTP_Germany\\Prices\\2016_01_DayAheadPrices_12.1.D.csv\n",
      "C:\\Users\\Alicia BASSIERE\\OneDrive - GENES\\Documents\\DATA\\ENTSO-E\\SFTP_Germany\\Prices\\2016_02_DayAheadPrices_12.1.D.csv\n",
      "C:\\Users\\Alicia BASSIERE\\OneDrive - GENES\\Documents\\DATA\\ENTSO-E\\SFTP_Germany\\Prices\\2016_03_DayAheadPrices_12.1.D.csv\n",
      "C:\\Users\\Alicia BASSIERE\\OneDrive - GENES\\Documents\\DATA\\ENTSO-E\\SFTP_Germany\\Prices\\2016_04_DayAheadPrices_12.1.D.csv\n",
      "C:\\Users\\Alicia BASSIERE\\OneDrive - GENES\\Documents\\DATA\\ENTSO-E\\SFTP_Germany\\Prices\\2016_05_DayAheadPrices_12.1.D.csv\n",
      "C:\\Users\\Alicia BASSIERE\\OneDrive - GENES\\Documents\\DATA\\ENTSO-E\\SFTP_Germany\\Prices\\2016_06_DayAheadPrices_12.1.D.csv\n",
      "C:\\Users\\Alicia BASSIERE\\OneDrive - GENES\\Documents\\DATA\\ENTSO-E\\SFTP_Germany\\Prices\\2016_07_DayAheadPrices_12.1.D.csv\n",
      "C:\\Users\\Alicia BASSIERE\\OneDrive - GENES\\Documents\\DATA\\ENTSO-E\\SFTP_Germany\\Prices\\2016_08_DayAheadPrices_12.1.D.csv\n",
      "C:\\Users\\Alicia BASSIERE\\OneDrive - GENES\\Documents\\DATA\\ENTSO-E\\SFTP_Germany\\Prices\\2016_09_DayAheadPrices_12.1.D.csv\n",
      "C:\\Users\\Alicia BASSIERE\\OneDrive - GENES\\Documents\\DATA\\ENTSO-E\\SFTP_Germany\\Prices\\2016_10_DayAheadPrices_12.1.D.csv\n",
      "C:\\Users\\Alicia BASSIERE\\OneDrive - GENES\\Documents\\DATA\\ENTSO-E\\SFTP_Germany\\Prices\\2016_11_DayAheadPrices_12.1.D.csv\n",
      "C:\\Users\\Alicia BASSIERE\\OneDrive - GENES\\Documents\\DATA\\ENTSO-E\\SFTP_Germany\\Prices\\2016_12_DayAheadPrices_12.1.D.csv\n",
      "C:\\Users\\Alicia BASSIERE\\OneDrive - GENES\\Documents\\DATA\\ENTSO-E\\SFTP_Germany\\Prices\\2017_01_DayAheadPrices_12.1.D.csv\n",
      "C:\\Users\\Alicia BASSIERE\\OneDrive - GENES\\Documents\\DATA\\ENTSO-E\\SFTP_Germany\\Prices\\2017_02_DayAheadPrices_12.1.D.csv\n",
      "C:\\Users\\Alicia BASSIERE\\OneDrive - GENES\\Documents\\DATA\\ENTSO-E\\SFTP_Germany\\Prices\\2017_03_DayAheadPrices_12.1.D.csv\n",
      "C:\\Users\\Alicia BASSIERE\\OneDrive - GENES\\Documents\\DATA\\ENTSO-E\\SFTP_Germany\\Prices\\2017_04_DayAheadPrices_12.1.D.csv\n",
      "C:\\Users\\Alicia BASSIERE\\OneDrive - GENES\\Documents\\DATA\\ENTSO-E\\SFTP_Germany\\Prices\\2017_05_DayAheadPrices_12.1.D.csv\n",
      "C:\\Users\\Alicia BASSIERE\\OneDrive - GENES\\Documents\\DATA\\ENTSO-E\\SFTP_Germany\\Prices\\2017_06_DayAheadPrices_12.1.D.csv\n",
      "C:\\Users\\Alicia BASSIERE\\OneDrive - GENES\\Documents\\DATA\\ENTSO-E\\SFTP_Germany\\Prices\\2017_07_DayAheadPrices_12.1.D.csv\n",
      "C:\\Users\\Alicia BASSIERE\\OneDrive - GENES\\Documents\\DATA\\ENTSO-E\\SFTP_Germany\\Prices\\2017_08_DayAheadPrices_12.1.D.csv\n",
      "C:\\Users\\Alicia BASSIERE\\OneDrive - GENES\\Documents\\DATA\\ENTSO-E\\SFTP_Germany\\Prices\\2017_09_DayAheadPrices_12.1.D.csv\n",
      "C:\\Users\\Alicia BASSIERE\\OneDrive - GENES\\Documents\\DATA\\ENTSO-E\\SFTP_Germany\\Prices\\2017_10_DayAheadPrices_12.1.D.csv\n",
      "C:\\Users\\Alicia BASSIERE\\OneDrive - GENES\\Documents\\DATA\\ENTSO-E\\SFTP_Germany\\Prices\\2017_11_DayAheadPrices_12.1.D.csv\n",
      "C:\\Users\\Alicia BASSIERE\\OneDrive - GENES\\Documents\\DATA\\ENTSO-E\\SFTP_Germany\\Prices\\2017_12_DayAheadPrices_12.1.D.csv\n",
      "C:\\Users\\Alicia BASSIERE\\OneDrive - GENES\\Documents\\DATA\\ENTSO-E\\SFTP_Germany\\Prices\\2018_01_DayAheadPrices_12.1.D.csv\n",
      "C:\\Users\\Alicia BASSIERE\\OneDrive - GENES\\Documents\\DATA\\ENTSO-E\\SFTP_Germany\\Prices\\2018_02_DayAheadPrices_12.1.D.csv\n",
      "C:\\Users\\Alicia BASSIERE\\OneDrive - GENES\\Documents\\DATA\\ENTSO-E\\SFTP_Germany\\Prices\\2018_03_DayAheadPrices_12.1.D.csv\n",
      "C:\\Users\\Alicia BASSIERE\\OneDrive - GENES\\Documents\\DATA\\ENTSO-E\\SFTP_Germany\\Prices\\2018_04_DayAheadPrices_12.1.D.csv\n",
      "C:\\Users\\Alicia BASSIERE\\OneDrive - GENES\\Documents\\DATA\\ENTSO-E\\SFTP_Germany\\Prices\\2018_05_DayAheadPrices_12.1.D.csv\n",
      "C:\\Users\\Alicia BASSIERE\\OneDrive - GENES\\Documents\\DATA\\ENTSO-E\\SFTP_Germany\\Prices\\2018_06_DayAheadPrices_12.1.D.csv\n",
      "C:\\Users\\Alicia BASSIERE\\OneDrive - GENES\\Documents\\DATA\\ENTSO-E\\SFTP_Germany\\Prices\\2018_07_DayAheadPrices_12.1.D.csv\n",
      "C:\\Users\\Alicia BASSIERE\\OneDrive - GENES\\Documents\\DATA\\ENTSO-E\\SFTP_Germany\\Prices\\2018_08_DayAheadPrices_12.1.D.csv\n",
      "C:\\Users\\Alicia BASSIERE\\OneDrive - GENES\\Documents\\DATA\\ENTSO-E\\SFTP_Germany\\Prices\\2018_09_DayAheadPrices_12.1.D.csv\n",
      "C:\\Users\\Alicia BASSIERE\\OneDrive - GENES\\Documents\\DATA\\ENTSO-E\\SFTP_Germany\\Prices\\2018_10_DayAheadPrices_12.1.D.csv\n",
      "C:\\Users\\Alicia BASSIERE\\OneDrive - GENES\\Documents\\DATA\\ENTSO-E\\SFTP_Germany\\Prices\\2018_11_DayAheadPrices_12.1.D.csv\n",
      "C:\\Users\\Alicia BASSIERE\\OneDrive - GENES\\Documents\\DATA\\ENTSO-E\\SFTP_Germany\\Prices\\2018_12_DayAheadPrices_12.1.D.csv\n",
      "C:\\Users\\Alicia BASSIERE\\OneDrive - GENES\\Documents\\DATA\\ENTSO-E\\SFTP_Germany\\Prices\\2019_01_DayAheadPrices_12.1.D.csv\n",
      "C:\\Users\\Alicia BASSIERE\\OneDrive - GENES\\Documents\\DATA\\ENTSO-E\\SFTP_Germany\\Prices\\2019_02_DayAheadPrices_12.1.D.csv\n",
      "C:\\Users\\Alicia BASSIERE\\OneDrive - GENES\\Documents\\DATA\\ENTSO-E\\SFTP_Germany\\Prices\\2019_03_DayAheadPrices_12.1.D.csv\n",
      "C:\\Users\\Alicia BASSIERE\\OneDrive - GENES\\Documents\\DATA\\ENTSO-E\\SFTP_Germany\\Prices\\2019_04_DayAheadPrices_12.1.D.csv\n",
      "C:\\Users\\Alicia BASSIERE\\OneDrive - GENES\\Documents\\DATA\\ENTSO-E\\SFTP_Germany\\Prices\\2019_05_DayAheadPrices_12.1.D.csv\n",
      "C:\\Users\\Alicia BASSIERE\\OneDrive - GENES\\Documents\\DATA\\ENTSO-E\\SFTP_Germany\\Prices\\2019_06_DayAheadPrices_12.1.D.csv\n",
      "C:\\Users\\Alicia BASSIERE\\OneDrive - GENES\\Documents\\DATA\\ENTSO-E\\SFTP_Germany\\Prices\\2019_07_DayAheadPrices_12.1.D.csv\n",
      "C:\\Users\\Alicia BASSIERE\\OneDrive - GENES\\Documents\\DATA\\ENTSO-E\\SFTP_Germany\\Prices\\2019_08_DayAheadPrices_12.1.D.csv\n",
      "C:\\Users\\Alicia BASSIERE\\OneDrive - GENES\\Documents\\DATA\\ENTSO-E\\SFTP_Germany\\Prices\\2019_09_DayAheadPrices_12.1.D.csv\n",
      "C:\\Users\\Alicia BASSIERE\\OneDrive - GENES\\Documents\\DATA\\ENTSO-E\\SFTP_Germany\\Prices\\2019_10_DayAheadPrices_12.1.D.csv\n",
      "C:\\Users\\Alicia BASSIERE\\OneDrive - GENES\\Documents\\DATA\\ENTSO-E\\SFTP_Germany\\Prices\\2019_11_DayAheadPrices_12.1.D.csv\n",
      "C:\\Users\\Alicia BASSIERE\\OneDrive - GENES\\Documents\\DATA\\ENTSO-E\\SFTP_Germany\\Prices\\2019_12_DayAheadPrices_12.1.D.csv\n",
      "C:\\Users\\Alicia BASSIERE\\OneDrive - GENES\\Documents\\DATA\\ENTSO-E\\SFTP_Germany\\Prices\\2020_01_DayAheadPrices_12.1.D.csv\n",
      "C:\\Users\\Alicia BASSIERE\\OneDrive - GENES\\Documents\\DATA\\ENTSO-E\\SFTP_Germany\\Prices\\2020_02_DayAheadPrices_12.1.D.csv\n",
      "C:\\Users\\Alicia BASSIERE\\OneDrive - GENES\\Documents\\DATA\\ENTSO-E\\SFTP_Germany\\Prices\\2020_03_DayAheadPrices_12.1.D.csv\n",
      "C:\\Users\\Alicia BASSIERE\\OneDrive - GENES\\Documents\\DATA\\ENTSO-E\\SFTP_Germany\\Prices\\2020_04_DayAheadPrices_12.1.D.csv\n",
      "C:\\Users\\Alicia BASSIERE\\OneDrive - GENES\\Documents\\DATA\\ENTSO-E\\SFTP_Germany\\Prices\\2020_05_DayAheadPrices_12.1.D.csv\n",
      "C:\\Users\\Alicia BASSIERE\\OneDrive - GENES\\Documents\\DATA\\ENTSO-E\\SFTP_Germany\\Prices\\2020_06_DayAheadPrices_12.1.D.csv\n",
      "C:\\Users\\Alicia BASSIERE\\OneDrive - GENES\\Documents\\DATA\\ENTSO-E\\SFTP_Germany\\Prices\\2020_07_DayAheadPrices_12.1.D.csv\n",
      "C:\\Users\\Alicia BASSIERE\\OneDrive - GENES\\Documents\\DATA\\ENTSO-E\\SFTP_Germany\\Prices\\2020_08_DayAheadPrices_12.1.D.csv\n",
      "C:\\Users\\Alicia BASSIERE\\OneDrive - GENES\\Documents\\DATA\\ENTSO-E\\SFTP_Germany\\Prices\\2020_09_DayAheadPrices_12.1.D.csv\n",
      "C:\\Users\\Alicia BASSIERE\\OneDrive - GENES\\Documents\\DATA\\ENTSO-E\\SFTP_Germany\\Prices\\2020_10_DayAheadPrices_12.1.D.csv\n",
      "C:\\Users\\Alicia BASSIERE\\OneDrive - GENES\\Documents\\DATA\\ENTSO-E\\SFTP_Germany\\Prices\\2020_11_DayAheadPrices_12.1.D.csv\n",
      "C:\\Users\\Alicia BASSIERE\\OneDrive - GENES\\Documents\\DATA\\ENTSO-E\\SFTP_Germany\\Prices\\2020_12_DayAheadPrices_12.1.D.csv\n",
      "C:\\Users\\Alicia BASSIERE\\OneDrive - GENES\\Documents\\DATA\\ENTSO-E\\SFTP_Germany\\Prices\\2021_01_DayAheadPrices_12.1.D.csv\n",
      "C:\\Users\\Alicia BASSIERE\\OneDrive - GENES\\Documents\\DATA\\ENTSO-E\\SFTP_Germany\\Prices\\2021_02_DayAheadPrices_12.1.D.csv\n",
      "C:\\Users\\Alicia BASSIERE\\OneDrive - GENES\\Documents\\DATA\\ENTSO-E\\SFTP_Germany\\Prices\\2021_03_DayAheadPrices_12.1.D.csv\n",
      "C:\\Users\\Alicia BASSIERE\\OneDrive - GENES\\Documents\\DATA\\ENTSO-E\\SFTP_Germany\\Prices\\2021_04_DayAheadPrices_12.1.D.csv\n",
      "C:\\Users\\Alicia BASSIERE\\OneDrive - GENES\\Documents\\DATA\\ENTSO-E\\SFTP_Germany\\Prices\\2021_05_DayAheadPrices_12.1.D.csv\n",
      "C:\\Users\\Alicia BASSIERE\\OneDrive - GENES\\Documents\\DATA\\ENTSO-E\\SFTP_Germany\\Prices\\2021_06_DayAheadPrices_12.1.D.csv\n",
      "C:\\Users\\Alicia BASSIERE\\OneDrive - GENES\\Documents\\DATA\\ENTSO-E\\SFTP_Germany\\Prices\\2021_07_DayAheadPrices_12.1.D.csv\n",
      "C:\\Users\\Alicia BASSIERE\\OneDrive - GENES\\Documents\\DATA\\ENTSO-E\\SFTP_Germany\\Prices\\2021_08_DayAheadPrices_12.1.D.csv\n",
      "C:\\Users\\Alicia BASSIERE\\OneDrive - GENES\\Documents\\DATA\\ENTSO-E\\SFTP_Germany\\Prices\\2021_09_DayAheadPrices_12.1.D.csv\n",
      "C:\\Users\\Alicia BASSIERE\\OneDrive - GENES\\Documents\\DATA\\ENTSO-E\\SFTP_Germany\\Prices\\2021_10_DayAheadPrices_12.1.D.csv\n",
      "C:\\Users\\Alicia BASSIERE\\OneDrive - GENES\\Documents\\DATA\\ENTSO-E\\SFTP_Germany\\Prices\\2021_11_DayAheadPrices_12.1.D.csv\n",
      "C:\\Users\\Alicia BASSIERE\\OneDrive - GENES\\Documents\\DATA\\ENTSO-E\\SFTP_Germany\\Prices\\2021_12_DayAheadPrices_12.1.D.csv\n",
      "C:\\Users\\Alicia BASSIERE\\OneDrive - GENES\\Documents\\DATA\\ENTSO-E\\SFTP_Germany\\Prices\\2022_01_DayAheadPrices_12.1.D.csv\n",
      "C:\\Users\\Alicia BASSIERE\\OneDrive - GENES\\Documents\\DATA\\ENTSO-E\\SFTP_Germany\\Prices\\2022_02_DayAheadPrices_12.1.D.csv\n",
      "C:\\Users\\Alicia BASSIERE\\OneDrive - GENES\\Documents\\DATA\\ENTSO-E\\SFTP_Germany\\Prices\\2022_03_DayAheadPrices_12.1.D.csv\n",
      "C:\\Users\\Alicia BASSIERE\\OneDrive - GENES\\Documents\\DATA\\ENTSO-E\\SFTP_Germany\\Prices\\2022_04_DayAheadPrices_12.1.D.csv\n",
      "C:\\Users\\Alicia BASSIERE\\OneDrive - GENES\\Documents\\DATA\\ENTSO-E\\SFTP_Germany\\Prices\\2022_05_DayAheadPrices_12.1.D.csv\n",
      "C:\\Users\\Alicia BASSIERE\\OneDrive - GENES\\Documents\\DATA\\ENTSO-E\\SFTP_Germany\\Prices\\2022_06_DayAheadPrices_12.1.D.csv\n",
      "C:\\Users\\Alicia BASSIERE\\OneDrive - GENES\\Documents\\DATA\\ENTSO-E\\SFTP_Germany\\Prices\\2022_07_DayAheadPrices_12.1.D.csv\n",
      "C:\\Users\\Alicia BASSIERE\\OneDrive - GENES\\Documents\\DATA\\ENTSO-E\\SFTP_Germany\\Prices\\2022_08_DayAheadPrices_12.1.D.csv\n",
      "C:\\Users\\Alicia BASSIERE\\OneDrive - GENES\\Documents\\DATA\\ENTSO-E\\SFTP_Germany\\Prices\\2022_09_DayAheadPrices_12.1.D.csv\n",
      "C:\\Users\\Alicia BASSIERE\\OneDrive - GENES\\Documents\\DATA\\ENTSO-E\\SFTP_Germany\\Prices\\2022_10_DayAheadPrices_12.1.D.csv\n",
      "C:\\Users\\Alicia BASSIERE\\OneDrive - GENES\\Documents\\DATA\\ENTSO-E\\SFTP_Germany\\Prices\\2022_11_DayAheadPrices_12.1.D.csv\n",
      "C:\\Users\\Alicia BASSIERE\\OneDrive - GENES\\Documents\\DATA\\ENTSO-E\\SFTP_Germany\\Prices\\2022_12_DayAheadPrices_12.1.D.csv\n",
      "C:\\Users\\Alicia BASSIERE\\OneDrive - GENES\\Documents\\DATA\\ENTSO-E\\SFTP_Germany\\Prices\\2023_01_DayAheadPrices_12.1.D.csv\n",
      "C:\\Users\\Alicia BASSIERE\\OneDrive - GENES\\Documents\\DATA\\ENTSO-E\\SFTP_Germany\\Prices\\2023_02_DayAheadPrices_12.1.D.csv\n",
      "C:\\Users\\Alicia BASSIERE\\OneDrive - GENES\\Documents\\DATA\\ENTSO-E\\SFTP_Germany\\Prices\\2023_03_DayAheadPrices_12.1.D.csv\n",
      "C:\\Users\\Alicia BASSIERE\\OneDrive - GENES\\Documents\\DATA\\ENTSO-E\\SFTP_Germany\\Prices\\2023_04_DayAheadPrices_12.1.D.csv\n",
      "C:\\Users\\Alicia BASSIERE\\OneDrive - GENES\\Documents\\DATA\\ENTSO-E\\SFTP_Germany\\Prices\\2023_05_DayAheadPrices_12.1.D.csv\n",
      "C:\\Users\\Alicia BASSIERE\\OneDrive - GENES\\Documents\\DATA\\ENTSO-E\\SFTP_Germany\\Prices\\2023_06_DayAheadPrices_12.1.D.csv\n",
      "C:\\Users\\Alicia BASSIERE\\OneDrive - GENES\\Documents\\DATA\\ENTSO-E\\SFTP_Germany\\Prices\\2023_07_DayAheadPrices_12.1.D.csv\n",
      "C:\\Users\\Alicia BASSIERE\\OneDrive - GENES\\Documents\\DATA\\ENTSO-E\\SFTP_Germany\\Prices\\2023_08_DayAheadPrices_12.1.D.csv\n",
      "C:\\Users\\Alicia BASSIERE\\OneDrive - GENES\\Documents\\DATA\\ENTSO-E\\SFTP_Germany\\Prices\\2023_09_DayAheadPrices_12.1.D.csv\n"
     ]
    }
   ],
   "source": [
    "# Specify the directory containing the datasets\n",
    "path = r\"C:\\Users\\Alicia BASSIERE\\OneDrive - GENES\\Documents\\DATA\\ENTSO-E\\SFTP_Germany\\Prices\"\n",
    "\n",
    "# Initialize an empty list to store DataFrames\n",
    "dataframes = []\n",
    "\n",
    "# Iterate through files in the directory\n",
    "for filename in os.listdir(path):\n",
    "    if filename.endswith(\".csv\"):\n",
    "        # Read each CSV file and append it to the list of DataFrames\n",
    "        filepath = os.path.join(path, filename)\n",
    "        df = pd.read_csv(filepath, delimiter = \"\\t\", index_col=0)\n",
    "        df = df[df['AreaName'].str.startswith('DE')]\n",
    "        dataframes.append(df)"
   ],
   "metadata": {
    "collapsed": false,
    "pycharm": {
     "name": "#%%\n"
    }
   }
  },
  {
   "cell_type": "code",
   "execution_count": 3,
   "outputs": [],
   "source": [
    "# Concatenate all DataFrames into one\n",
    "concatenated_df = pd.concat(dataframes)\n",
    "concatenated_df['Datetime'] = pd.to_datetime(concatenated_df.index)\n",
    "concatenated_df.set_index('Datetime', inplace=True)\n",
    "concatenated_df = concatenated_df[\"Price\"]\n",
    "concatenated_df = concatenated_df.resample('H').mean()\n",
    "output_csv = path + r\"\\price_concatenated_data.csv\"\n",
    "concatenated_df.to_csv(output_csv, index=True)"
   ],
   "metadata": {
    "collapsed": false,
    "pycharm": {
     "name": "#%%\n"
    }
   }
  },
  {
   "cell_type": "markdown",
   "source": [],
   "metadata": {
    "collapsed": false,
    "pycharm": {
     "name": "#%% md\n"
    }
   }
  }
 ],
 "metadata": {
  "kernelspec": {
   "display_name": "Python 3",
   "language": "python",
   "name": "python3"
  },
  "language_info": {
   "codemirror_mode": {
    "name": "ipython",
    "version": 2
   },
   "file_extension": ".py",
   "mimetype": "text/x-python",
   "name": "python",
   "nbconvert_exporter": "python",
   "pygments_lexer": "ipython2",
   "version": "2.7.6"
  }
 },
 "nbformat": 4,
 "nbformat_minor": 0
}