{
 "cells": [
  {
   "cell_type": "code",
   "execution_count": 3,
   "source": [
    "import numpy as np\n",
    "from scipy.optimize import minimize\n",
    "\n",
    "# Définition de la fonction objectif\n",
    "def objective_function(x):\n",
    "    return x[0]**2 + x[1]**2 + x[2]**2\n",
    "\n",
    "# Contraintes : x[0] >= 1, x[1] >= 2, x[2] >= 3\n",
    "def constraint_x(x):\n",
    "    return x[0] - 1\n",
    "\n",
    "def constraint_y(x):\n",
    "    return x[1] - 2\n",
    "\n",
    "def constraint_z(x):\n",
    "    return x[2] - 3\n",
    "\n",
    "# Contraintes à ajouter dans la fonction de minimisation\n",
    "constraints = [{'type': 'ineq', 'fun': constraint_x},\n",
    "               {'type': 'ineq', 'fun': constraint_y},\n",
    "               {'type': 'ineq', 'fun': constraint_z}]\n",
    "\n",
    "print(constraint_x)\n",
    "\n",
    "# Point de départ initial\n",
    "x0 = np.array([0.5, 1.5, 2.5])\n",
    "\n",
    "# Appel à la fonction minimize\n",
    "result = minimize(objective_function, x0, method='SLSQP', constraints=constraints)\n",
    "\n",
    "# Affichage des résultats\n",
    "print(\"Le point minimal trouvé est :\", result.x)\n",
    "print(\"La valeur minimale de la fonction est :\", result.fun)\n",
    "if result.success:\n",
    "    print(\"Le solveur a réussi à trouver une solution.\")\n",
    "else:\n",
    "    print(\"Le solveur n'a pas réussi. Raison :\", result.message)\n"
   ],
   "metadata": {
    "collapsed": false
   },
   "outputs": []
  },
  {
   "cell_type": "code",
   "execution_count": 2,
   "source": [
    "print(constraints)"
   ],
   "metadata": {
    "collapsed": false
   },
   "outputs": []
  },
  {
   "cell_type": "code",
   "execution_count": null,
   "source": [],
   "metadata": {
    "collapsed": false
   },
   "outputs": []
  }
 ],
 "metadata": {
  "kernelspec": {
   "display_name": "Python 3",
   "language": "python",
   "name": "python3"
  },
  "language_info": {
   "codemirror_mode": {
    "name": "ipython",
    "version": 2
   },
   "file_extension": ".py",
   "mimetype": "text/x-python",
   "name": "python",
   "nbconvert_exporter": "python",
   "pygments_lexer": "ipython2",
   "version": "2.7.6"
  }
 },
 "nbformat": 4,
 "nbformat_minor": 0
}
