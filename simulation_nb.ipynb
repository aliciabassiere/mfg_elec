{
 "cells": [
  {
   "metadata": {
    "jupyter": {
     "is_executing": true
    }
   },
   "cell_type": "code",
   "source": [
    "from elecmarket import *\n",
    "import os as os\n",
    "import matplotlib.pyplot as plt\n",
    "import seaborn as sns\n",
    "\n",
    "np.random.seed(42)"
   ],
   "id": "b1590eb9c77473cf",
   "outputs": [],
   "execution_count": null
  },
  {
   "metadata": {
    "jupyter": {
     "is_executing": true
    }
   },
   "cell_type": "code",
   "source": [
    "scenario_name = r\"C:\\Users\\Alicia BASSIERE\\OneDrive - GENES\\Documents\\Paper 03 - MFG planner\\Results\\test\"\n",
    "cp = getpar(\"common_params.py\")\n",
    "cagents = [Conventional('Coal', cp, getpar('coal.py')),\n",
    "          Conventional('Gas', cp, getpar('gas.py'))]\n",
    "\n",
    "ragents = [Renewable('Wind', cp, getpar('renewable.py'))]\n",
    "\n",
    "Niter = cp['iterations']\n",
    "tol = cp['tolerance']\n",
    "\n",
    "sim = Simulation(cagents,ragents,cp)\n",
    "\n",
    "start_simu = time.time()\n",
    "\n",
    "###################### Version MFG ######################\n",
    "\n",
    "conv, elapsed, Nit, mfg_prices, mfg_revenues = sim.run(Niter, tol, cp['power'], cp['offset'])\n",
    "\n",
    "print(\"MFG Revenues: \", mfg_revenues)\n",
    "print('Elapsed time: ', elapsed/60)\n"
   ],
   "id": "9c37ada0bd2d24c5",
   "outputs": [],
   "execution_count": null
  },
  {
   "metadata": {
    "jupyter": {
     "is_executing": true
    }
   },
   "cell_type": "code",
   "source": [
    "out = sim.write(scenario_name)\n",
    "\n",
    "try:\n",
    "    os.mkdir(scenario_name)\n",
    "except FileExistsError:\n",
    "    print('Directory already exists')\n",
    "os.system(\"cp common_params.py \"+scenario_name+\"/common_params.py\")\n",
    "\n",
    "# parameter files are copied to output directory; change this if you change agent types\n",
    "os.system(\"cp coal.py \"+scenario_name+\"/coal.py\")\n",
    "os.system(\"cp gas.py \"+scenario_name+\"/gas.py\")\n",
    "os.system(\"cp renewable.py \"+scenario_name+\"/renewable.py\")\n",
    "#os.system(\"cp pv.py \"+scenario_name+\"/pv.py\")\n",
    "os.system(\"cp \"+scenario_name+'.csv '+scenario_name+\"/\"+scenario_name+\".csv\")\n"
   ],
   "id": "d460c2597a156f0d",
   "outputs": [],
   "execution_count": null
  },
  {
   "metadata": {
    "jupyter": {
     "is_executing": true
    }
   },
   "cell_type": "code",
   "source": [
    "# Years for tick marks\n",
    "years = list(range(2024, 2041))  # Years from 2024 to 2040\n",
    "\n",
    "# Creating a DataFrame for easy plotting with seaborn\n",
    "df = pd.DataFrame({\n",
    "    'Year': out['time'],\n",
    "    'Peak Price': out['peak price'],\n",
    "    'Offpeak Price': out['offpeak price'],\n",
    "    'Coal Capacity': out['Coal capacity'],\n",
    "    'Gas Capacity': out['Gas capacity'],\n",
    "    'Wind Capacity': out['Wind capacity'],\n",
    "    'Coal Price': out['Fuel 0'],\n",
    "    'Gas Price': out['Fuel 1'],\n",
    "    'Peak Demand': sim.pdemand,\n",
    "    'Offpeak Demand': sim.opdemand,\n",
    "    'Coal Offpeak Supply': out['Coal offpeak supply'],\n",
    "    'Gas Offpeak Supply': out['Gas offpeak supply'],\n",
    "    'Wind Offpeak Supply': out['Wind offpeak supply'],\n",
    "    'Coal Peak Supply': out['Coal peak supply'],\n",
    "    'Gas Peak Supply': out['Gas peak supply'],\n",
    "    'Wind Peak Supply': out['Wind peak supply']\n",
    "})\n",
    "\n",
    "df['Year'] = df['Year'].map(lambda x: 2024 + x)\n"
   ],
   "id": "26fb1ae9c1ce0703",
   "outputs": [],
   "execution_count": null
  },
  {
   "metadata": {
    "jupyter": {
     "is_executing": true
    }
   },
   "cell_type": "code",
   "source": [
    "\n",
    "# Setting the style and context for seaborn\n",
    "sns.set(style=\"whitegrid\")\n",
    "\n",
    "# Define the figure and subplots\n",
    "fig, axes = plt.subplots(nrows=1, ncols=2, figsize=(12, 5))\n",
    "\n",
    "# Plotting the electricity prices with seaborn\n",
    "sns.lineplot(ax=axes[0], x='Year', y='Peak Price', data=df, label='Peak Price', color='tab:blue')\n",
    "sns.lineplot(ax=axes[0], x='Year', y='Offpeak Price', data=df, label='Offpeak Price', color='tab:orange')\n",
    "\n",
    "axes[0].set_ylabel('Price ($)', fontsize=14)\n",
    "axes[0].set_xlabel('Year', fontsize=14)\n",
    "axes[0].set_xlim(2024, 2040)\n",
    "axes[0].legend()\n",
    "\n",
    "# Set x-axis ticks to display every other year for less clutter\n",
    "tick_indices = range(2024, 2041, 2)  # This skips every other year\n",
    "axes[0].set_xticks(tick_indices)\n",
    "\n",
    "# Plotting the capacity for each agent type with seaborn\n",
    "sns.lineplot(ax=axes[1], x='Year', y='Coal Capacity', data=df, label='Coal Capacity', color='tab:purple')\n",
    "sns.lineplot(ax=axes[1], x='Year', y='Gas Capacity', data=df, label='Gas Capacity', color='tab:red')\n",
    "sns.lineplot(ax=axes[1], x='Year', y='Wind Capacity', data=df, label='Renewable Capacity', color='tab:green')\n",
    "axes[1].set_ylabel('Capacity (GW)', fontsize=14)\n",
    "axes[1].set_xlabel('Year', fontsize=14)\n",
    "axes[1].set_ylim(0, 135)\n",
    "axes[1].set_xlim(2024, 2040)\n",
    "axes[1].legend(loc='upper left')\n",
    "\n",
    "# Apply the same x-axis settings to the second subplot\n",
    "axes[1].set_xticks(tick_indices)\n",
    "\n",
    "# Adjust layout to prevent overlap\n",
    "plt.tight_layout()\n",
    "\n",
    "# Save the figure to a PDF file\n",
    "plt.savefig(scenario_name + \"/\" + 'price_capacity.pdf', format='pdf')\n",
    "axes[0].set_title('Electricity Price')\n",
    "axes[1].set_title('Installed Capacity')\n",
    "# Show the plot (optional, can be removed if only saving is needed)\n",
    "plt.show()\n"
   ],
   "id": "3a87c2479ad83f3b",
   "outputs": [],
   "execution_count": null
  },
  {
   "metadata": {
    "jupyter": {
     "is_executing": true
    }
   },
   "cell_type": "code",
   "source": [
    "fig, axes = plt.subplots(nrows=1, ncols=2, figsize=(14, 5))\n",
    "\n",
    "# Plotting demand\n",
    "sns.lineplot(ax=axes[0], x='Year', y='Peak Demand', data=df, label='Peak Demand', color='tab:blue')\n",
    "sns.lineplot(ax=axes[0], x='Year', y='Offpeak Demand', data=df, label='Offpeak Demand', color='tab:orange')\n",
    "axes[0].set_title('Electricity Demand')\n",
    "axes[0].legend()\n",
    "\n",
    "# Plotting fuel prices\n",
    "sns.lineplot(ax=axes[1], x='Year', y='Coal Price', data=df, label='Coal Price', color='tab:purple')\n",
    "sns.lineplot(ax=axes[1], x='Year', y='Gas Price', data=df, label='Gas Price', color='tab:red')\n",
    "axes[1].set_title('Fuel Prices')\n",
    "axes[1].legend()\n",
    "\n",
    "plt.tight_layout()\n",
    "plt.savefig(scenario_name + \"/demand_fuelprice.pdf\", format='pdf')\n",
    "plt.show()\n"
   ],
   "id": "a78a87b542deeac2",
   "outputs": [],
   "execution_count": null
  },
  {
   "metadata": {
    "jupyter": {
     "is_executing": true
    }
   },
   "cell_type": "code",
   "source": [
    "fig, axes = plt.subplots(nrows=1, ncols=2, figsize=(14, 5))\n",
    "\n",
    "# Plotting peak supply with stackplot\n",
    "axes[0].stackplot(df['Year'], df['Coal Peak Supply'], df['Gas Peak Supply'], df['Wind Peak Supply'],\n",
    "                  labels=['Coal Supply', 'Gas Supply', 'Wind Supply'],\n",
    "                  colors=['tab:purple', 'tab:red', 'tab:green'])\n",
    "axes[0].set_title('Conventional/Renewable Peak Supply, GW')\n",
    "axes[0].legend(loc='upper left')\n",
    "\n",
    "# Plotting off-peak supply with stackplot\n",
    "axes[1].stackplot(df['Year'], df['Coal Offpeak Supply'], df['Gas Offpeak Supply'], df['Wind Offpeak Supply'],\n",
    "                  labels=['Coal Supply', 'Gas Supply', 'Wind Supply'],\n",
    "                  colors=['tab:purple', 'tab:red', 'tab:green'])\n",
    "axes[1].set_title('Conventional/Renewable Off-Peak Supply, GW')\n",
    "axes[1].legend(loc='upper left')\n",
    "\n",
    "plt.tight_layout()\n",
    "plt.savefig(scenario_name + \"/supply.pdf\", format='pdf')\n",
    "plt.show()"
   ],
   "id": "9457207c2ce42c2b",
   "outputs": [],
   "execution_count": null
  },
  {
   "metadata": {
    "jupyter": {
     "is_executing": true
    }
   },
   "cell_type": "code",
   "source": [
    "# print(\"############### Planner Version ###############\")\n",
    "#\n",
    "# initial_prices = np.random.rand(2 * sim.Nt + sim.Nfuels * sim.Nt)*10\n",
    "#\n",
    "# planner_objective, sim.Prp, sim.Prop, sim.fPrice = sim.optimizePrices(mfg_prices)\n",
    "#\n",
    "# end_simu = time.time()\n",
    "#\n",
    "# print(\"Time: \", end_simu-start_simu, \"s\")\n",
    "#\n",
    "# out = sim.write(scenario_name)\n",
    "#\n",
    "# try:\n",
    "#     os.mkdir(scenario_name)\n",
    "# except FileExistsError:\n",
    "#     print('Directory already exists')\n",
    "# os.system(\"cp common_params.py \"+scenario_name+\"/common_params.py\")\n",
    "#\n",
    "# # parameter files are copied to output directory; change this if you change agent types\n",
    "# os.system(\"cp coal.py \"+scenario_name+\"/coal.py\")\n",
    "# os.system(\"cp gas.py \"+scenario_name+\"/gas.py\")\n",
    "# os.system(\"cp renewable.py \"+scenario_name+\"/renewable.py\")\n",
    "#\n",
    "# os.system(\"cp \"+scenario_name+'.csv '+scenario_name+\"/\"+scenario_name+\".csv\")\n",
    "#\n",
    "#\n",
    "# plt.figure(figsize=(14,5))\n",
    "# plt.subplot(121)\n",
    "# plt.plot(2025+out['time'], out['peak price'], label='peak price')\n",
    "# plt.plot(2025+out['time'], out['offpeak price'], label='offpeak price')\n",
    "# plt.legend()\n",
    "# plt.title('Electricity price (Planner)')\n",
    "# plt.subplot(122)\n",
    "#\n",
    "# # Plotting the capacity for each agent type; modify this if you change agent types\n",
    "# plt.plot(2025+out['time'], out['Coal capacity'], label='Coal capacity')\n",
    "# plt.plot(2025+out['time'], out['Gas capacity'],label='Gas capacity')\n",
    "# plt.plot(2025+out['time'], out['Renewable capacity'], label='Renewable capacity')\n",
    "# plt.legend()\n",
    "# plt.title('Installed capacity (Planner)')\n",
    "# plt.savefig(scenario_name+\"/\"+'price_capacity.pdf', format='pdf')\n",
    "#\n",
    "# plt.figure(figsize=(14, 5))\n",
    "# plt.subplot(121)\n",
    "# plt.plot(2025+out['time'], sim.pdemand, label='peak demand')\n",
    "# plt.plot(2025+out['time'], sim.opdemand, label='offpeak demand')\n",
    "# plt.legend()\n",
    "# plt.title('Electricity demand (Planner)')\n",
    "# plt.subplot(122)\n",
    "#\n",
    "# # Plotting the fuel prices; modify this if you change fuel types\n",
    "# plt.plot(2025+out['time'], out['Fuel 0'], label='Coal price')\n",
    "# plt.plot(2025+out['time'], out['Fuel 1'], label='Gas price')\n",
    "# plt.legend()\n",
    "# plt.title('Fuel price (Planner)')\n",
    "# #plt.plot(2025+out['time'],np.interp(out['time'],cp[\"carbon tax\"][0],cp[\"carbon tax\"][1]))\n",
    "# plt.savefig(scenario_name+\"/\"+'demand_fuelprice.pdf',format='pdf')\n",
    "#\n",
    "#\n",
    "# plt.figure(figsize=(14,5))\n",
    "# plt.subplot(121)\n",
    "#\n",
    "# # Plotting the supply for each agent; modify this if you change agent types\n",
    "# plt.bar(2025+out['time'],out['Coal peak supply'],width=0.25,label='Coal supply')\n",
    "# plt.bar(2025+out['time'],out['Gas peak supply'],width=0.25,\n",
    "#         bottom=out['Coal peak supply'],label='Gas supply')\n",
    "# plt.bar(2025+out['time'],out['Renewable peak supply'],width=0.25,\n",
    "#         bottom=out['Gas peak supply']+out['Coal peak supply'],label='Renewable supply')\n",
    "# #plt.ylim([0,80])\n",
    "# plt.title('Conventional/ renewable peak supply, GW (Planner)')\n",
    "# plt.legend()\n",
    "# plt.subplot(122)\n",
    "# plt.bar(2025+out['time'],out['Coal offpeak supply'],width=0.5,label='Coal supply')\n",
    "# plt.bar(2025+out['time'],out['Gas offpeak supply'],width=0.25,\n",
    "#         bottom=out['Coal offpeak supply'],label='Gas supply')\n",
    "# plt.bar(2025+out['time'],out['Renewable offpeak supply'],width=0.25,\n",
    "#         bottom=out['Gas offpeak supply']+out['Coal offpeak supply'],label='Renewable supply')\n",
    "#\n",
    "# plt.title('Conventional/ renewable off-peak supply, GW (Planner)')\n",
    "#\n",
    "# #plt.ylim([0,80])\n",
    "#\n",
    "# plt.legend()\n",
    "# plt.savefig(scenario_name+\"/\"+'supply.pdf',format='pdf')\n",
    "# plt.show()\n",
    "#\n",
    "#\n"
   ],
   "id": "11c81958407f4626",
   "outputs": [],
   "execution_count": null
  }
 ],
 "metadata": {
  "kernelspec": {
   "display_name": "Python 3",
   "language": "python",
   "name": "python3"
  },
  "language_info": {
   "codemirror_mode": {
    "name": "ipython",
    "version": 2
   },
   "file_extension": ".py",
   "mimetype": "text/x-python",
   "name": "python",
   "nbconvert_exporter": "python",
   "pygments_lexer": "ipython2",
   "version": "2.7.6"
  }
 },
 "nbformat": 4,
 "nbformat_minor": 5
}
